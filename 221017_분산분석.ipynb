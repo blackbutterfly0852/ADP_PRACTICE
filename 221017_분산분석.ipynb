{
 "cells": [
  {
   "cell_type": "markdown",
   "metadata": {},
   "source": [
    "# 통계분석 과제 (ANOVA)\n",
    "## One -Way ANOVA \n",
    "- titanic 데이터에서 class에 따른 평균 fare의 차이가 있는지를 검정하세요 \n"
   ]
  },
  {
   "cell_type": "code",
   "execution_count": 5,
   "metadata": {},
   "outputs": [],
   "source": [
    "import pandas as pd \n",
    "df = pd.read_csv('data/titanic.csv')"
   ]
  },
  {
   "cell_type": "code",
   "execution_count": 6,
   "metadata": {},
   "outputs": [
    {
     "data": {
      "text/plain": [
       "Third     491\n",
       "First     216\n",
       "Second    184\n",
       "Name: class, dtype: int64"
      ]
     },
     "execution_count": 6,
     "metadata": {},
     "output_type": "execute_result"
    }
   ],
   "source": [
    "df['class'].value_counts()"
   ]
  },
  {
   "cell_type": "markdown",
   "metadata": {},
   "source": [
    "#### 1. 가설 설정\n",
    "##### > H0 : class에 따른 평균 Fare의 차이가 없다.\n",
    "##### > H1 : 적어도 한 class에 대한 평균 Fare는 다르다.\n",
    "#### 2. 유의수준 설정 : 0.05 \n",
    "#### 3. 기각역 설정\n",
    "#### 4. 전처리 및 통계량 계산(F통계량 = 집단 간 변동 / 집단 내 변동)\n",
    "#### 5. 해석"
   ]
  },
  {
   "cell_type": "code",
   "execution_count": 7,
   "metadata": {},
   "outputs": [
    {
     "name": "stdout",
     "output_type": "stream",
     "text": [
      "<class 'pandas.core.frame.DataFrame'>\n",
      "RangeIndex: 891 entries, 0 to 890\n",
      "Data columns (total 15 columns):\n",
      " #   Column       Non-Null Count  Dtype  \n",
      "---  ------       --------------  -----  \n",
      " 0   survived     891 non-null    int64  \n",
      " 1   pclass       891 non-null    int64  \n",
      " 2   sex          891 non-null    object \n",
      " 3   age          714 non-null    float64\n",
      " 4   sibsp        891 non-null    int64  \n",
      " 5   parch        891 non-null    int64  \n",
      " 6   fare         891 non-null    float64\n",
      " 7   embarked     889 non-null    object \n",
      " 8   class        891 non-null    object \n",
      " 9   who          891 non-null    object \n",
      " 10  adult_male   891 non-null    bool   \n",
      " 11  deck         203 non-null    object \n",
      " 12  embark_town  889 non-null    object \n",
      " 13  alive        891 non-null    object \n",
      " 14  alone        891 non-null    bool   \n",
      "dtypes: bool(2), float64(2), int64(4), object(7)\n",
      "memory usage: 92.4+ KB\n"
     ]
    }
   ],
   "source": [
    "# 4. 전처리 및 통계량 계산\n",
    "df.info() # class와 fare의 결측치 X"
   ]
  },
  {
   "cell_type": "code",
   "execution_count": null,
   "metadata": {},
   "outputs": [],
   "source": []
  },
  {
   "cell_type": "code",
   "execution_count": 8,
   "metadata": {},
   "outputs": [],
   "source": [
    "# 4. 전처리 및 통계량 계산\n",
    "# One-Way ANOAVA : 한 기준 요인(class)에 따라 구하고자하는 변수(fare)의 평균 차이가 있는지 검정\n",
    "s_f = df.loc[df['class'] == 'First','fare']\n",
    "s_s = df.loc[df['class'] == 'Second', 'fare']\n",
    "s_t = df.loc[df['class'] == 'Third', 'fare']"
   ]
  },
  {
   "cell_type": "code",
   "execution_count": 31,
   "metadata": {},
   "outputs": [
    {
     "data": {
      "image/png": "[encoded data removed]",
      "text/plain": [
       "<Figure size 432x288 with 1 Axes>"
      ]
     },
     "metadata": {
      "needs_background": "light"
     },
     "output_type": "display_data"
    }
   ],
   "source": [
    "# 시각화\n",
    "import seaborn as sns\n",
    "import matplotlib.pyplot as plt\n",
    "\n",
    "sns.scatterplot(x = 'class',\n",
    "                y = 'fare',\n",
    "                hue = 'class', # 그룹 별 색깔\n",
    "                style = 'class', # 그룹 별 모양\n",
    "                s = 100,\n",
    "                data = df)\n",
    "\n",
    "plt.show()"
   ]
  },
  {
   "cell_type": "code",
   "execution_count": 29,
   "metadata": {},
   "outputs": [
    {
     "name": "stdout",
     "output_type": "stream",
     "text": [
      "ShapiroResult(statistic=0.718401312828064, pvalue=7.556354866266318e-19)\n",
      "ShapiroResult(statistic=0.7785055637359619, pvalue=2.1134516002102284e-15)\n",
      "ShapiroResult(statistic=0.6183854937553406, pvalue=1.5995106796893175e-31)\n",
      "LeveneResult(statistic=118.57020037111805, pvalue=2.288618662046418e-46)\n"
     ]
    }
   ],
   "source": [
    "# 정규성(데이터 크기 동일 필요), 등분산성 검정\n",
    "import scipy.stats as stats\n",
    "from scipy.stats import shapiro, kruskal,levene\n",
    "print(stats.shapiro(s_f))\n",
    "print(stats.shapiro(s_s))\n",
    "print(stats.shapiro(s_t))\n",
    "print(stats.levene(s_f,s_s,s_t))"
   ]
  },
  {
   "cell_type": "markdown",
   "metadata": {},
   "source": [
    "##### 세 집단 모두 정규성을 만족하지 못한다. 즉, 세 집단 모두 정규분포를 띄지 않는다.\n",
    "##### 세 집단 중 적어도 한 집단의 분산은 다르다.(등분산성 만족 X)"
   ]
  },
  {
   "cell_type": "code",
   "execution_count": 18,
   "metadata": {},
   "outputs": [
    {
     "data": {
      "text/plain": [
       "KruskalResult(statistic=438.0437034212556, pvalue=7.586096900646798e-96)"
      ]
     },
     "execution_count": 18,
     "metadata": {},
     "output_type": "execute_result"
    }
   ],
   "source": [
    "# 정규성을 만족하지 못하는 경우 \n",
    "stats.kruskal(s_f,s_s,s_t)"
   ]
  },
  {
   "cell_type": "markdown",
   "metadata": {},
   "source": [
    "##### 정규성을 만족하지 않으므로, stats.kruskal 검정을 실시했다.\n",
    "##### 통계량은 438.043 이며, 유의확률(p-value) 값이 0.05보다 작으므로, 귀무가설을 기각하고 대립가설을 채택한다.\n",
    "##### 즉, class에 따른 평균 fare에는 통계적으로 유의미한 차이가 있으며, 적어도 한 class의 대한 평균 fare는 다르다."
   ]
  },
  {
   "cell_type": "code",
   "execution_count": null,
   "metadata": {},
   "outputs": [],
   "source": [
    "# 만약 정규성을 만족하고 등분산성을 만족 못하는 경우\n",
    "!pip install pingouin \n",
    "import pinguin as pg\n",
    "pg.welch_anova(data = df, dv = 'fare', between = 'class')"
   ]
  },
  {
   "cell_type": "code",
   "execution_count": 21,
   "metadata": {},
   "outputs": [
    {
     "data": {
      "text/plain": [
       "F_onewayResult(statistic=242.34415651744814, pvalue=1.0313763209141171e-84)"
      ]
     },
     "execution_count": 21,
     "metadata": {},
     "output_type": "execute_result"
    }
   ],
   "source": [
    "# 만약 정규성과 등분산성을 모두 만족하는 경우\n",
    "stats.f_oneway(s_f,s_s,s_t)"
   ]
  },
  {
   "cell_type": "markdown",
   "metadata": {},
   "source": [
    "##### 통계량은 242.344 이며, 유의확률(p-value) 값이 0.05보다 작으므로, 귀무가설을 기각하고 대립가설을 채택한다.\n",
    "##### 즉, class에 따른 평균 fare에는 통계적으로 유의미한 차이가 있으며, 적어도 한 class의 대한 평균 fare는 다르다."
   ]
  },
  {
   "cell_type": "code",
   "execution_count": 26,
   "metadata": {},
   "outputs": [
    {
     "data": {
      "text/html": [
       "<table class=\"simpletable\">\n",
       "<caption>Multiple Comparison of Means - Tukey HSD, FWER=0.05</caption>\n",
       "<tr>\n",
       "  <th>group1</th> <th>group2</th> <th>meandiff</th> <th>p-adj</th>   <th>lower</th>    <th>upper</th>  <th>reject</th>\n",
       "</tr>\n",
       "<tr>\n",
       "   <td>First</td> <td>Second</td> <td>-63.4925</td> <td>-0.0</td>  <td>-72.9165</td> <td>-54.0685</td>  <td>True</td> \n",
       "</tr>\n",
       "<tr>\n",
       "   <td>First</td>  <td>Third</td> <td>-70.4791</td> <td>-0.0</td>  <td>-78.1489</td> <td>-62.8094</td>  <td>True</td> \n",
       "</tr>\n",
       "<tr>\n",
       "  <td>Second</td>  <td>Third</td>  <td>-6.9866</td> <td>0.108</td> <td>-15.1064</td>  <td>1.1331</td>   <td>False</td>\n",
       "</tr>\n",
       "</table>"
      ],
      "text/plain": [
       "<class 'statsmodels.iolib.table.SimpleTable'>"
      ]
     },
     "execution_count": 26,
     "metadata": {},
     "output_type": "execute_result"
    }
   ],
   "source": [
    "# 사후 검정 : 세 가지 class 중 어떠한 class 간에 평균 fare의 차이가 있는지 알아보자.\n",
    "from statsmodels.stats.multicomp import pairwise_tukeyhsd, MultiComparison\n",
    "mc = MultiComparison(data = df['fare'], groups = df['class'])\n",
    "tukeyhsd = mc.tukeyhsd(alpha = 0.05)\n",
    "tukeyhsd.summary()"
   ]
  },
  {
   "cell_type": "code",
   "execution_count": 28,
   "metadata": {},
   "outputs": [
    {
     "data": {
      "image/png": "[encoded data removed]",
      "text/plain": [
       "<Figure size 720x432 with 1 Axes>"
      ]
     },
     "metadata": {
      "needs_background": "light"
     },
     "output_type": "display_data"
    }
   ],
   "source": [
    "fig = tukeyhsd.plot_simultaneous()"
   ]
  },
  {
   "cell_type": "markdown",
   "metadata": {},
   "source": [
    "##### 대립가설 채택에 따라, 어떠한 class 간의 평균 fare차이가 있는지 검정하기 위해, 사후 분석 중 tukeyhsd 분석을 실시했다.\n",
    "##### H0 : 집단들 사이의 평균은 같다. H1 : 집단들 사이의 평균이 같지 않다.\n",
    "##### 그리고 모든 집단 수준에 대하여, 두 집단씩 짝을 지어 각각 다중 비교를 수행한다.\n",
    "##### 첫 번째 그룹인 First - Second, 두 번째 그룹인 Second-Third는 유의확률이 0.05보다 작으므로 평균 비교에 대한 귀무가설을 기각하고 대립가설을 채택한다.\n",
    "#####  First - Second 그룹과 Second-Third 그룹은 각각 평균 fare은 통계적으로 유의미한 차이가 있다.\n",
    "##### meandiff는 (group2 - group1) 이므로 First class는 Second class 보다  fare가 평균 63 높고, First class는 Third class 보다 fare가 평균 70 이 높으므로, First class가 다른 모든 class에 비해 통계적으로 유의한 큰 값을 가진다고 해석할 수 있다."
   ]
  },
  {
   "cell_type": "markdown",
   "metadata": {},
   "source": [
    "\n",
    "## Two -Way ANOVA \n",
    "- titanic 데이터에서 class와 sex에 따른 fare의 차이를 검정하세요. \n",
    "- 1. 교호작용효과 검정 \n",
    "- 2. class효과 검정 \n",
    "- 3. sex 효과 검정 "
   ]
  },
  {
   "cell_type": "markdown",
   "metadata": {},
   "source": [
    "#### 1. 가설 설정\n",
    "##### 주효과 검정\n",
    "##### > H0 : class에 따른 평균 Fare의 차이가 존재하지 않는다.\n",
    "##### > H1 : class에 따른 평균 Fare의 차이가 존재한다.\n",
    "\n",
    "##### > H0 : sex에 따른 평균 Fare의 차이가 존재하지 않는다.\n",
    "##### > H1 : sex에 따른 평균 Fare의 차이가 존재한다.\n",
    "\n",
    "##### 상호작용효과 검정\n",
    "##### H0 : class와 sex 간에는 상호작용효과가 없다. class와 sex에 따른 평균 fare 차이가 존재하지 않는다.\n",
    "##### H1 : class와 sex 간에는 상호작용효과가 있다. class와 sex에 따른 평균 fare 차이가 존재한다.\n",
    "\n",
    "#### 2. 유의수준 설정 : 0.05 \n",
    "#### 3. 기각역 설정\n",
    "#### 4. 전처리 및 통계량 계산(F통계량 = 집단 간 변동 / 집단 내 변동)\n",
    "#### 5. 해석"
   ]
  },
  {
   "cell_type": "code",
   "execution_count": 33,
   "metadata": {},
   "outputs": [
    {
     "name": "stdout",
     "output_type": "stream",
     "text": [
      "<class 'pandas.core.frame.DataFrame'>\n",
      "RangeIndex: 891 entries, 0 to 890\n",
      "Data columns (total 15 columns):\n",
      " #   Column       Non-Null Count  Dtype  \n",
      "---  ------       --------------  -----  \n",
      " 0   survived     891 non-null    int64  \n",
      " 1   pclass       891 non-null    int64  \n",
      " 2   sex          891 non-null    object \n",
      " 3   age          714 non-null    float64\n",
      " 4   sibsp        891 non-null    int64  \n",
      " 5   parch        891 non-null    int64  \n",
      " 6   fare         891 non-null    float64\n",
      " 7   embarked     889 non-null    object \n",
      " 8   class        891 non-null    object \n",
      " 9   who          891 non-null    object \n",
      " 10  adult_male   891 non-null    bool   \n",
      " 11  deck         203 non-null    object \n",
      " 12  embark_town  889 non-null    object \n",
      " 13  alive        891 non-null    object \n",
      " 14  alone        891 non-null    bool   \n",
      "dtypes: bool(2), float64(2), int64(4), object(7)\n",
      "memory usage: 92.4+ KB\n"
     ]
    }
   ],
   "source": [
    "# 4. 전처리 및 통계량 계산\n",
    "df = pd.read_csv('data/titanic.csv')\n",
    "df.info() # class, sex, fare 결측값 X"
   ]
  },
  {
   "cell_type": "code",
   "execution_count": 34,
   "metadata": {},
   "outputs": [],
   "source": [
    "import pandas as pd\n",
    "import numpy as np\n",
    "import scipy.stats as stats\n",
    "from statsmodels.formula.api import ols\n",
    "from statsmodels.stats.anova import anova_lm"
   ]
  },
  {
   "cell_type": "code",
   "execution_count": 42,
   "metadata": {},
   "outputs": [
    {
     "name": "stderr",
     "output_type": "stream",
     "text": [
      "C:\\Users\\KDB\\AppData\\Local\\Temp\\ipykernel_101056\\196671142.py:9: SettingWithCopyWarning: \n",
      "A value is trying to be set on a copy of a slice from a DataFrame\n",
      "\n",
      "See the caveats in the documentation: https://pandas.pydata.org/pandas-docs/stable/user_guide/indexing.html#returning-a-view-versus-a-copy\n",
      "  df_t.rename({'class':'c'}, axis = 'columns', inplace = True)\n"
     ]
    }
   ],
   "source": [
    "# 독립변수와 종속변수 Series로 변경\n",
    "s_c = df['class']\n",
    "s_s = df['sex']\n",
    "s_f = df['fare']\n",
    "# 독립변수와 종속변수 DF로 변경\n",
    "df_t = df[['class', 'sex','fare']]\n",
    "\n",
    "# 'class' 예약어로 컬럼명 변경\n",
    "df_t.rename({'class':'c'}, axis = 'columns', inplace = True)"
   ]
  },
  {
   "cell_type": "code",
   "execution_count": 44,
   "metadata": {},
   "outputs": [
    {
     "data": {
      "text/html": [
       "<div>\n",
       "<style scoped>\n",
       "    .dataframe tbody tr th:only-of-type {\n",
       "        vertical-align: middle;\n",
       "    }\n",
       "\n",
       "    .dataframe tbody tr th {\n",
       "        vertical-align: top;\n",
       "    }\n",
       "\n",
       "    .dataframe thead th {\n",
       "        text-align: right;\n",
       "    }\n",
       "</style>\n",
       "<table border=\"1\" class=\"dataframe\">\n",
       "  <thead>\n",
       "    <tr style=\"text-align: right;\">\n",
       "      <th></th>\n",
       "      <th>c</th>\n",
       "      <th>sex</th>\n",
       "      <th>fare</th>\n",
       "    </tr>\n",
       "  </thead>\n",
       "  <tbody>\n",
       "    <tr>\n",
       "      <th>0</th>\n",
       "      <td>Third</td>\n",
       "      <td>male</td>\n",
       "      <td>7.2500</td>\n",
       "    </tr>\n",
       "    <tr>\n",
       "      <th>1</th>\n",
       "      <td>First</td>\n",
       "      <td>female</td>\n",
       "      <td>71.2833</td>\n",
       "    </tr>\n",
       "    <tr>\n",
       "      <th>2</th>\n",
       "      <td>Third</td>\n",
       "      <td>female</td>\n",
       "      <td>7.9250</td>\n",
       "    </tr>\n",
       "    <tr>\n",
       "      <th>3</th>\n",
       "      <td>First</td>\n",
       "      <td>female</td>\n",
       "      <td>53.1000</td>\n",
       "    </tr>\n",
       "    <tr>\n",
       "      <th>4</th>\n",
       "      <td>Third</td>\n",
       "      <td>male</td>\n",
       "      <td>8.0500</td>\n",
       "    </tr>\n",
       "  </tbody>\n",
       "</table>\n",
       "</div>"
      ],
      "text/plain": [
       "       c     sex     fare\n",
       "0  Third    male   7.2500\n",
       "1  First  female  71.2833\n",
       "2  Third  female   7.9250\n",
       "3  First  female  53.1000\n",
       "4  Third    male   8.0500"
      ]
     },
     "execution_count": 44,
     "metadata": {},
     "output_type": "execute_result"
    }
   ],
   "source": [
    "df_t.head()"
   ]
  },
  {
   "cell_type": "code",
   "execution_count": 46,
   "metadata": {},
   "outputs": [
    {
     "data": {
      "text/html": [
       "<div>\n",
       "<style scoped>\n",
       "    .dataframe tbody tr th:only-of-type {\n",
       "        vertical-align: middle;\n",
       "    }\n",
       "\n",
       "    .dataframe tbody tr th {\n",
       "        vertical-align: top;\n",
       "    }\n",
       "\n",
       "    .dataframe thead th {\n",
       "        text-align: right;\n",
       "    }\n",
       "</style>\n",
       "<table border=\"1\" class=\"dataframe\">\n",
       "  <thead>\n",
       "    <tr style=\"text-align: right;\">\n",
       "      <th></th>\n",
       "      <th>df</th>\n",
       "      <th>sum_sq</th>\n",
       "      <th>mean_sq</th>\n",
       "      <th>F</th>\n",
       "      <th>PR(&gt;F)</th>\n",
       "    </tr>\n",
       "  </thead>\n",
       "  <tbody>\n",
       "    <tr>\n",
       "      <th>C(c)</th>\n",
       "      <td>2.0</td>\n",
       "      <td>7.760301e+05</td>\n",
       "      <td>388015.028289</td>\n",
       "      <td>256.265184</td>\n",
       "      <td>1.585048e-88</td>\n",
       "    </tr>\n",
       "    <tr>\n",
       "      <th>C(sex)</th>\n",
       "      <td>1.0</td>\n",
       "      <td>3.174857e+04</td>\n",
       "      <td>31748.565217</td>\n",
       "      <td>20.968394</td>\n",
       "      <td>5.337586e-06</td>\n",
       "    </tr>\n",
       "    <tr>\n",
       "      <th>C(c):C(sex)</th>\n",
       "      <td>2.0</td>\n",
       "      <td>5.002816e+04</td>\n",
       "      <td>25014.078906</td>\n",
       "      <td>16.520591</td>\n",
       "      <td>9.034206e-08</td>\n",
       "    </tr>\n",
       "    <tr>\n",
       "      <th>Residual</th>\n",
       "      <td>885.0</td>\n",
       "      <td>1.339992e+06</td>\n",
       "      <td>1514.115269</td>\n",
       "      <td>NaN</td>\n",
       "      <td>NaN</td>\n",
       "    </tr>\n",
       "  </tbody>\n",
       "</table>\n",
       "</div>"
      ],
      "text/plain": [
       "                df        sum_sq        mean_sq           F        PR(>F)\n",
       "C(c)           2.0  7.760301e+05  388015.028289  256.265184  1.585048e-88\n",
       "C(sex)         1.0  3.174857e+04   31748.565217   20.968394  5.337586e-06\n",
       "C(c):C(sex)    2.0  5.002816e+04   25014.078906   16.520591  9.034206e-08\n",
       "Residual     885.0  1.339992e+06    1514.115269         NaN           NaN"
      ]
     },
     "execution_count": 46,
     "metadata": {},
     "output_type": "execute_result"
    }
   ],
   "source": [
    "# 분산분석 수행\n",
    "formula = 'fare~C(c)*C(sex)'\n",
    "model = ols(formula, df_t).fit()\n",
    "aov_table = anova_lm(model, type = 2)\n",
    "aov_table"
   ]
  },
  {
   "cell_type": "markdown",
   "metadata": {},
   "source": [
    "##### 만약 이원배치분석에서 상호작용효과가 있을 경우, 주효과 검정의 의미가 무효화 되므로, 먼저 해석한다.\n",
    "##### 상호작용효과 검정에서 class와 sex의 경우 유의확률이 0.05보다 작으므로, 귀무가설을 기각하고 대립가설을 채택한다.\n",
    "##### class와 sex의 경우 상호작용효과가 존재하며, 이는 class와 sex에 따른 평균 fare의 차이가 존재함을 의미한다.\n",
    "##### 즉 class가 평균 fare의 미치는 영향이 sex의 수준에 따라서 달라진다(혹은, sex가 평균 Fare 값에 미치는 영향이 class 수준에 따라서 달라진다)\n",
    "##### 상호작용효과가 존재하므로, 주효과 검정은 무의미하다.\n",
    "##### 만약 상호작용효과가 없다면, 각각의 요인들은 통계량이 0.05보다 작으므로 독립적으로 평균 fare 값에 영향을 미친다."
   ]
  },
  {
   "cell_type": "code",
   "execution_count": 53,
   "metadata": {},
   "outputs": [
    {
     "data": {
      "image/png": "[encoded data removed]",
      "text/plain": [
       "<Figure size 432x432 with 1 Axes>"
      ]
     },
     "metadata": {
      "needs_background": "light"
     },
     "output_type": "display_data"
    }
   ],
   "source": [
    "# 상호작용그래프\n",
    "import matplotlib.pyplot as plt\n",
    "from statsmodels.graphics.factorplots import interaction_plot\n",
    "\n",
    "fig, ax = plt.subplots(figsize = (6,6))\n",
    "fig = interaction_plot(s_c, s_s, s_f, colors = ['red', 'blue'], markers=['D', '^'], ms = 10, ax = ax)"
   ]
  },
  {
   "cell_type": "markdown",
   "metadata": {},
   "source": [
    "##### 일반적으로 상호작용그래프에서 두 선이 교차하고 있을 시에는 X축에 있는 독립변수와 그래프에서 시각화된 독립변수 간에 상호작용이 존재한다.\n",
    "##### female의 그래프가 first clas로 갈수록 급격하게 올라간다. \n",
    "##### 이는 female의 fare는 class 수준에 영향을 받았음을 알 수 있으며,  first 클래스 일수록 여자의 소비는 남자의 소비보다 더 높아지는 경향이 있다."
   ]
  },
  {
   "cell_type": "code",
   "execution_count": null,
   "metadata": {},
   "outputs": [],
   "source": []
  },
  {
   "cell_type": "code",
   "execution_count": null,
   "metadata": {},
   "outputs": [],
   "source": []
  },
  {
   "cell_type": "code",
   "execution_count": null,
   "metadata": {},
   "outputs": [],
   "source": []
  },
  {
   "cell_type": "code",
   "execution_count": null,
   "metadata": {},
   "outputs": [],
   "source": []
  },
  {
   "cell_type": "code",
   "execution_count": null,
   "metadata": {},
   "outputs": [],
   "source": []
  },
  {
   "cell_type": "code",
   "execution_count": null,
   "metadata": {},
   "outputs": [],
   "source": []
  },
  {
   "cell_type": "code",
   "execution_count": null,
   "metadata": {},
   "outputs": [],
   "source": []
  },
  {
   "cell_type": "code",
   "execution_count": null,
   "metadata": {},
   "outputs": [],
   "source": []
  },
  {
   "cell_type": "code",
   "execution_count": null,
   "metadata": {},
   "outputs": [],
   "source": []
  },
  {
   "cell_type": "code",
   "execution_count": null,
   "metadata": {},
   "outputs": [],
   "source": []
  },
  {
   "cell_type": "code",
   "execution_count": null,
   "metadata": {},
   "outputs": [],
   "source": []
  }
 ],
 "metadata": {
  "kernelspec": {
   "display_name": "Python 3 (ipykernel)",
   "language": "python",
   "name": "python3"
  },
  "language_info": {
   "codemirror_mode": {
    "name": "ipython",
    "version": 3
   },
   "file_extension": ".py",
   "mimetype": "text/x-python",
   "name": "python",
   "nbconvert_exporter": "python",
   "pygments_lexer": "ipython3",
   "version": "3.9.12"
  },
  "toc": {
   "base_numbering": 1,
   "nav_menu": {},
   "number_sections": true,
   "sideBar": true,
   "skip_h1_title": false,
   "title_cell": "Table of Contents",
   "title_sidebar": "Contents",
   "toc_cell": false,
   "toc_position": {},
   "toc_section_display": true,
   "toc_window_display": false
  }
 },
 "nbformat": 4,
 "nbformat_minor": 4
}
