{
 "cells": [
  {
   "cell_type": "markdown",
   "id": "b70bb6a2",
   "metadata": {},
   "source": [
    "## 머신러닝\n",
    "### 1. 데이터를 탐색하고 탐색 결과를 제시하시오.\n",
    "### 2. 결측치를 탐색하고 대체 방법 및 근거를 제시하시오.\n",
    "### 3. 데이터의 질을 향상시킬 수 있는 방법을 제안하시오.\n",
    "#### IQR 방식으로 lead_time 변수의 이상치를 보정해주어, 극단적인 값으 제거함으로써 모델에 특정 값이 영향을 주는 경우를 방지한다.\n",
    "#### 또는 is_repeated_guest 변수에서 [1]에 해당하는 데이터를 더 수집해 해당 변수의 불균형을 해소한다.\n",
    "### 4. 데이터 불균형을 시각화하여 식별하고 불균형 판단근거를 작성하시오.\n",
    "### 4. 오버 샘플링 기법을 설명하고, 비교한 뒤 2개 기법을 선정하고 근거를 제시하시오.\n",
    "### 5. 기법을 선정한 이유를 작성하고, 원데이터를 포함해 3개의 데이터 세트를 구성하시오\n",
    "#### 오버샘플링 방식으로 Randon Oversampling과 SMOTE를 선택한다. \n",
    "#### 그 이유는 Random Oversampling은 간단한 방식으로 데이터 불균형 문제를 해결할 수 있기 때문이다.\n",
    "#### SMOTE는 데이터를 생성할 때 과적합 문제를 방지할 수 있다는 점에서 선택하였다.\n",
    "### 6. 오버 샘플링 데이터와 원데이터를 사용해 정확도 측면 모델 하나와 속도 측면의 모델 하나를 선정하고, 그 이유를 설명하시오.\n",
    "#### 오버 샘플링 x 2개 X 속도/정확도\n",
    "#### 원데이터 X 속도/정확도\n",
    "### 7. 원 데이터와 오버 샘플링 데이터를 가지고 각각 분류한 결과를 바탕으로, 오버샘플링이 성능에 미친 영향에 대해 작성하시오.\n",
    "#### 원본데이터 랜덤포레스트 분류 > train score\n",
    "#### 오버샘플링 랜덤포레스트 분류 > train score\n",
    "#### 하지만 test 데이터로 모델의 최종 성능을 비교해보면 오버 샘플링 분석 정확도에 긍정적인 영향을 주었다는 것을 알 수 있다.\n",
    "#### 특히, 오버 샘플링은 데이터의 불균형으로 인한 과적합을 방지하고, 예측 모델의 일반화를 가능하게 했다는 점에서 영향을 주었다. \n",
    "#### 원본데이터 or 오버샘플링 test 데이터의 Macro Average, Weighted Average > 각각 Train 데이터와 비교 후 과적합발생\n",
    "#### 데이터의 불균형 문제를 전처리 과정에서 극복했기 때문이다. 따라서 오버 샘플링 처리를 한 예측모델은 일반화가 가능하다고 판단되므로\n",
    "#### 실제 분석환경에서 사용할 수 있다.\n",
    "\n",
    "\n",
    "## 통계분석\n",
    "### 1. 공장에서 시제품의 농도(%)가 60이라고 주장하며, 품질관리팀에서 10개의 샘플을 뽑았다. 유의수준 5%에서 다음을 검정하시오\n",
    "### 데이터 : (시제품 샘플 농도) : 52,50,62,75,26,45,62,35,57,14\n",
    "### 1-1) 연구가설, 귀무가설을 작성하시오.\n",
    "### 1-2) 유효한 샘플의 수를 계산하시오.\n",
    "### 1-3) 검정통계량을 구하고 연구가설 채택 여부를 작성하시오.\n",
    "\n",
    "### 2. 코로나 시계열 데이터로 다음을 수행하시오.\n",
    "### 데이터 : 지역별 코로나 확진자 수 시계열 데이터\n",
    "### ACF 사용해서 distancd를 계산하시오.\n",
    "### 계층적 군집분석을 위해 덴드로그램을 작성하시오.\n",
    "\n",
    "\n",
    "### 3. 사회과학, 자연과학, 공학 세 개 학과의 평점조사표를 보고 학과와 성적이 관계 있는지 검정하시오.\n",
    "### 3-1) 연구가설, 귀무가설을 작성하시오\n",
    "### 3-2) 학과와 성적이 독립일 때 기대값을 구하시오.\n",
    "### 3-3) 검정 통계량을 구하고 연구가설 채택 여부를 작성하시오."
   ]
  },
  {
   "cell_type": "markdown",
   "id": "8716e6d6",
   "metadata": {},
   "source": [
    "### 1. 공장에서 시제품의 농도(%)가 60이라고 주장하며, 품질관리팀에서 10개의 샘플을 뽑았다. 유의수준 5%에서 다음을 검정하시오\n",
    "### 데이터 : (시제품 샘플 농도) : 52,50,62,75,26,45,62,35,57,14\n",
    "### 1-1) 연구가설, 귀무가설을 작성하시오.\n",
    "#### H0 : 시제품의 농도는 60%이다. H1 : 시제품의 농도는 60%가 아니다."
   ]
  },
  {
   "cell_type": "markdown",
   "id": "3b847511",
   "metadata": {},
   "source": [
    "### 1-2) 유효한 샘플의 수를 계산하시오."
   ]
  },
  {
   "cell_type": "code",
   "execution_count": 18,
   "id": "d86957e4",
   "metadata": {},
   "outputs": [
    {
     "name": "stdout",
     "output_type": "stream",
     "text": [
      "표준편차 :  17.434448657758008\n"
     ]
    },
    {
     "data": {
      "text/plain": [
       "40.85590828532381"
      ]
     },
     "execution_count": 18,
     "metadata": {},
     "output_type": "execute_result"
    }
   ],
   "source": [
    "x = [52,50,62,75,26,45,62,35,57,14]\n",
    "import numpy as np\n",
    "from scipy.stats import t\n",
    "\n",
    "moe = 5 # 오차한계\n",
    "std = np.std(x) # 표준편차\n",
    "print('표준편차 : ', std)\n",
    "(t.ppf(q = 0.05, df = 9)*std / 5) ** 2 # ppf 누적분포함수의 역함수"
   ]
  },
  {
   "cell_type": "markdown",
   "id": "fdb216ab",
   "metadata": {},
   "source": [
    "#### 유효한 샘플의 수는 약 40개 이상이다.\n",
    "#### 유효한 샘플의 수는 최소 표본 크기를 계산하여 설정할 수 있다.\n",
    "#### 최소 표본크기의 계산은 허용오차식을 바탕으로 한다.\n",
    "#### 허용할 수 있는 오차한계와 신뢰수준이 주어졌을 때 샘플로부터 추정한 표준편차를 사용해 표본의 크기를 구할 수 있다.\n",
    "#### 오차한계를 5, 신뢰수준을 0.05로 설정한 뒤 샘플의 표준편차를 구한다.\n",
    "#### 허용오차식에 오차한계 5, 신뢰수준 0.05, 샘플의 표준편차를 대입한다.\n",
    "#### 결과가 40이므로, 유효한 샘플 수는 40 이상이다."
   ]
  },
  {
   "cell_type": "markdown",
   "id": "c7ae9390",
   "metadata": {},
   "source": [
    "### 1-3) 검정통계량을 구하고 연구가설 채택 여부를 작성하시오."
   ]
  },
  {
   "cell_type": "code",
   "execution_count": 16,
   "id": "9d6664f4",
   "metadata": {},
   "outputs": [
    {
     "data": {
      "text/plain": [
       "WilcoxonResult(statistic=9.5, pvalue=0.064453125)"
      ]
     },
     "execution_count": 16,
     "metadata": {},
     "output_type": "execute_result"
    }
   ],
   "source": [
    "from scipy import stats\n",
    "import pandas as pd\n",
    "stats.wilcoxon(pd.Series(x)-60)"
   ]
  },
  {
   "cell_type": "markdown",
   "id": "a2f016fe",
   "metadata": {},
   "source": [
    "#### Wilcoxon의 부호검정을 검정방법으로 선택한다. 이 검정방식은 모집단이 정규성을 만족하지 못할 때 사용하는 검정이다.\n",
    "#### 비교대상들 사이의 차이를 부호와 크기에 대한 정보로 바꾸어 이를 토대로 분포를 비교하는 방식이다.\n",
    "#### 검정 결과 p-value가 0.06이므로 0.05보다 크다. 따라서 귀무가설을 채택한다. 즉 시제품의 농도는 60%라고 판단할 수 있다."
   ]
  },
  {
   "cell_type": "markdown",
   "id": "f3e68fcf",
   "metadata": {},
   "source": [
    "### 3. 사회과학, 자연과학, 공학 세 개 학과의 평점조사표를 보고 학과와 성적이 관계 있는지 검정하시오.\n",
    "### 3-1) 연구가설, 귀무가설을 작성하시오\n",
    "#### H0 : 성적과 학점 간에는 관련성이 없다. H1 : 성적과 학점 간에는 관련성이 있다."
   ]
  },
  {
   "cell_type": "code",
   "execution_count": 31,
   "id": "a7540acb",
   "metadata": {
    "scrolled": false
   },
   "outputs": [
    {
     "data": {
      "text/html": [
       "<div>\n",
       "<style scoped>\n",
       "    .dataframe tbody tr th:only-of-type {\n",
       "        vertical-align: middle;\n",
       "    }\n",
       "\n",
       "    .dataframe tbody tr th {\n",
       "        vertical-align: top;\n",
       "    }\n",
       "\n",
       "    .dataframe thead th {\n",
       "        text-align: right;\n",
       "    }\n",
       "</style>\n",
       "<table border=\"1\" class=\"dataframe\">\n",
       "  <thead>\n",
       "    <tr style=\"text-align: right;\">\n",
       "      <th></th>\n",
       "      <th>사회과학</th>\n",
       "      <th>자연과학</th>\n",
       "      <th>공학</th>\n",
       "    </tr>\n",
       "  </thead>\n",
       "  <tbody>\n",
       "    <tr>\n",
       "      <th>3.5~4.5</th>\n",
       "      <td>16</td>\n",
       "      <td>12</td>\n",
       "      <td>18</td>\n",
       "    </tr>\n",
       "    <tr>\n",
       "      <th>2.5~3.5</th>\n",
       "      <td>30</td>\n",
       "      <td>20</td>\n",
       "      <td>13</td>\n",
       "    </tr>\n",
       "    <tr>\n",
       "      <th>1.5~2.5</th>\n",
       "      <td>12</td>\n",
       "      <td>3</td>\n",
       "      <td>14</td>\n",
       "    </tr>\n",
       "  </tbody>\n",
       "</table>\n",
       "</div>"
      ],
      "text/plain": [
       "         사회과학  자연과학  공학\n",
       "3.5~4.5    16    12  18\n",
       "2.5~3.5    30    20  13\n",
       "1.5~2.5    12     3  14"
      ]
     },
     "execution_count": 31,
     "metadata": {},
     "output_type": "execute_result"
    }
   ],
   "source": [
    "사회 = [16,30,12]\n",
    "자연과학 = [12,20,3]\n",
    "공학 = [18,13,14]\n",
    "table = pd.DataFrame({'사회과학' : 사회, '자연과학' : 자연과학,'공학' : 공학}, index = ['3.5~4.5', '2.5~3.5', '1.5~2.5'])\n",
    "table"
   ]
  },
  {
   "cell_type": "markdown",
   "id": "703ce820",
   "metadata": {},
   "source": [
    "### 3-2) 학과와 성적이 독립일 때 기대값을 구하시오."
   ]
  },
  {
   "cell_type": "code",
   "execution_count": 44,
   "id": "dbaa33c7",
   "metadata": {},
   "outputs": [
    {
     "data": {
      "text/html": [
       "<div>\n",
       "<style scoped>\n",
       "    .dataframe tbody tr th:only-of-type {\n",
       "        vertical-align: middle;\n",
       "    }\n",
       "\n",
       "    .dataframe tbody tr th {\n",
       "        vertical-align: top;\n",
       "    }\n",
       "\n",
       "    .dataframe thead th {\n",
       "        text-align: right;\n",
       "    }\n",
       "</style>\n",
       "<table border=\"1\" class=\"dataframe\">\n",
       "  <thead>\n",
       "    <tr style=\"text-align: right;\">\n",
       "      <th></th>\n",
       "      <th>사회</th>\n",
       "      <th>자연과학</th>\n",
       "      <th>공학</th>\n",
       "    </tr>\n",
       "  </thead>\n",
       "  <tbody>\n",
       "    <tr>\n",
       "      <th>3.5~4.5</th>\n",
       "      <td>19.333333</td>\n",
       "      <td>11.666667</td>\n",
       "      <td>15.000000</td>\n",
       "    </tr>\n",
       "    <tr>\n",
       "      <th>2.5~3.5</th>\n",
       "      <td>26.478261</td>\n",
       "      <td>15.978261</td>\n",
       "      <td>20.543478</td>\n",
       "    </tr>\n",
       "    <tr>\n",
       "      <th>1.5~2.5</th>\n",
       "      <td>12.188406</td>\n",
       "      <td>7.355072</td>\n",
       "      <td>9.456522</td>\n",
       "    </tr>\n",
       "  </tbody>\n",
       "</table>\n",
       "</div>"
      ],
      "text/plain": [
       "                사회       자연과학         공학\n",
       "3.5~4.5  19.333333  11.666667  15.000000\n",
       "2.5~3.5  26.478261  15.978261  20.543478\n",
       "1.5~2.5  12.188406   7.355072   9.456522"
      ]
     },
     "execution_count": 44,
     "metadata": {},
     "output_type": "execute_result"
    }
   ],
   "source": [
    "from scipy import stats\n",
    "#help(stats.chi2_contingency(observed = table))\n",
    "table_expected = stats.chi2_contingency(observed = table)\n",
    "table_expected = pd.DataFrame(table_expected[3], columns = ['사회','자연과학','공학'], index = ['3.5~4.5', '2.5~3.5', '1.5~2.5'])\n",
    "table_expected"
   ]
  },
  {
   "cell_type": "markdown",
   "id": "f7d8d138",
   "metadata": {},
   "source": [
    "#### 9개의 기댓값은 pd.DataFrame을 통해 바로 위와 같이 계산했다."
   ]
  },
  {
   "cell_type": "markdown",
   "id": "05119574",
   "metadata": {},
   "source": [
    "### 3-3) 검정 통계량을 구하고 연구가설 채택 여부를 작성하시오."
   ]
  },
  {
   "cell_type": "code",
   "execution_count": 49,
   "id": "b350aea3",
   "metadata": {},
   "outputs": [
    {
     "name": "stdout",
     "output_type": "stream",
     "text": [
      "검정통계량 :  10.199441509990177\n",
      "유의확률 :   0.03719883770303157\n"
     ]
    }
   ],
   "source": [
    "table_expected = stats.chi2_contingency(observed = table)\n",
    "print('검정통계량 : ' , table_expected[0])\n",
    "print('유의확률 :  ' , table_expected[1])"
   ]
  },
  {
   "cell_type": "markdown",
   "id": "f161a4b5",
   "metadata": {},
   "source": [
    "#### chi-square 값은 10.199이고 p-value는 0.03이기 때문에 유의수준 0.05보다 작기 때문에 대립가설을 채택한다.\n",
    "#### 즉, 성적과 학과 간에는 관련성이 있다."
   ]
  },
  {
   "cell_type": "code",
   "execution_count": 62,
   "id": "a2162093",
   "metadata": {},
   "outputs": [
    {
     "name": "stdout",
     "output_type": "stream",
     "text": [
      "0.28867513459481287\n"
     ]
    },
    {
     "data": {
      "text/plain": [
       "4.444444444444445"
      ]
     },
     "execution_count": 62,
     "metadata": {},
     "output_type": "execute_result"
    }
   ],
   "source": [
    "# 기하평균 : 연 매출이 3000,4000,5000 > 연 평균 몇 배증가?\n",
    "import numpy as np\n",
    "a = (np.sqrt(((4000-3000)/3000) * ((5000-4000)/4000)))\n",
    "print(a)\n",
    "# 조화평균 : 갈 때 4km, 올 때 5km > 왕복평균속도는?\n",
    "(2*4*5)/(4+5)"
   ]
  }
 ],
 "metadata": {
  "kernelspec": {
   "display_name": "Python 3 (ipykernel)",
   "language": "python",
   "name": "python3"
  },
  "language_info": {
   "codemirror_mode": {
    "name": "ipython",
    "version": 3
   },
   "file_extension": ".py",
   "mimetype": "text/x-python",
   "name": "python",
   "nbconvert_exporter": "python",
   "pygments_lexer": "ipython3",
   "version": "3.9.12"
  }
 },
 "nbformat": 4,
 "nbformat_minor": 5
}
