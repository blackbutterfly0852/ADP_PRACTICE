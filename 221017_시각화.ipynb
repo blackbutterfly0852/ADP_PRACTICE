{
 "cells": [
  {
   "cell_type": "code",
   "execution_count": 5,
   "id": "5a6f4e60",
   "metadata": {},
   "outputs": [
    {
     "name": "stdout",
     "output_type": "stream",
     "text": [
      "<class 'pandas.core.frame.DataFrame'>\n",
      "RangeIndex: 144 entries, 0 to 143\n",
      "Data columns (total 3 columns):\n",
      " #   Column  Non-Null Count  Dtype  \n",
      "---  ------  --------------  -----  \n",
      " 0   Sex     144 non-null    object \n",
      " 1   Bwt     144 non-null    float64\n",
      " 2   Hwt     144 non-null    float64\n",
      "dtypes: float64(2), object(1)\n",
      "memory usage: 3.5+ KB\n"
     ]
    }
   ],
   "source": [
    "import pandas as pd\n",
    "import matplotlib.pyplot as plt\n",
    "df = pd.read_csv('data/cats.csv')\n",
    "df.head()\n",
    "df.info()"
   ]
  },
  {
   "cell_type": "code",
   "execution_count": 19,
   "id": "8e8c0334",
   "metadata": {},
   "outputs": [
    {
     "data": {
      "text/plain": [
       "47     2.0\n",
       "48     2.0\n",
       "49     2.1\n",
       "50     2.2\n",
       "51     2.2\n",
       "      ... \n",
       "139    3.7\n",
       "140    3.8\n",
       "141    3.8\n",
       "142    3.9\n",
       "143    3.9\n",
       "Name: Bwt, Length: 97, dtype: float64"
      ]
     },
     "execution_count": 19,
     "metadata": {},
     "output_type": "execute_result"
    }
   ],
   "source": [
    "s_m = df.loc[df['Sex'] == 'M', 'Bwt']\n",
    "s_f = df.loc[df['Sex'] == 'F', 'Bwt']\n",
    "s_m"
   ]
  },
  {
   "cell_type": "code",
   "execution_count": 30,
   "id": "f1f29527",
   "metadata": {},
   "outputs": [
    {
     "data": {
      "text/plain": [
       "2.0    2\n",
       "2.1    1\n",
       "2.2    8\n",
       "2.3    1\n",
       "2.4    5\n",
       "2.5    8\n",
       "2.6    6\n",
       "2.7    9\n",
       "2.8    7\n",
       "2.9    5\n",
       "3.0    9\n",
       "3.1    6\n",
       "3.2    6\n",
       "3.3    5\n",
       "3.4    5\n",
       "3.5    5\n",
       "3.6    4\n",
       "3.7    1\n",
       "3.8    2\n",
       "3.9    2\n",
       "dtype: int64"
      ]
     },
     "execution_count": 30,
     "metadata": {},
     "output_type": "execute_result"
    }
   ],
   "source": [
    "s_m_i = pd.value_counts(s_m.values, sort = False)\n",
    "s_f_i = pd.value_counts(s_f.values, sort = False)\n",
    "s_m_i"
   ]
  },
  {
   "cell_type": "code",
   "execution_count": null,
   "id": "1195dc2f",
   "metadata": {},
   "outputs": [],
   "source": []
  },
  {
   "cell_type": "code",
   "execution_count": 29,
   "id": "3a4a82b2",
   "metadata": {},
   "outputs": [
    {
     "data": {
      "image/png": "[encoded data removed]",
      "text/plain": [
       "<Figure size 1440x360 with 2 Axes>"
      ]
     },
     "metadata": {
      "needs_background": "light"
     },
     "output_type": "display_data"
    },
    {
     "name": "stdout",
     "output_type": "stream",
     "text": [
      "20\n",
      "20\n",
      "Help on function bar in module matplotlib.pyplot:\n",
      "\n",
      "bar(x, height, width=0.8, bottom=None, *, align='center', data=None, **kwargs)\n",
      "    Make a bar plot.\n",
      "    \n",
      "    The bars are positioned at *x* with the given *align*\\ment. Their\n",
      "    dimensions are given by *height* and *width*. The vertical baseline\n",
      "    is *bottom* (default 0).\n",
      "    \n",
      "    Many parameters can take either a single value applying to all bars\n",
      "    or a sequence of values, one for each bar.\n",
      "    \n",
      "    Parameters\n",
      "    ----------\n",
      "    x : float or array-like\n",
      "        The x coordinates of the bars. See also *align* for the\n",
      "        alignment of the bars to the coordinates.\n",
      "    \n",
      "    height : float or array-like\n",
      "        The height(s) of the bars.\n",
      "    \n",
      "    width : float or array-like, default: 0.8\n",
      "        The width(s) of the bars.\n",
      "    \n",
      "    bottom : float or array-like, default: 0\n",
      "        The y coordinate(s) of the bars bases.\n",
      "    \n",
      "    align : {'center', 'edge'}, default: 'center'\n",
      "        Alignment of the bars to the *x* coordinates:\n",
      "    \n",
      "        - 'center': Center the base on the *x* positions.\n",
      "        - 'edge': Align the left edges of the bars with the *x* positions.\n",
      "    \n",
      "        To align the bars on the right edge pass a negative *width* and\n",
      "        ``align='edge'``.\n",
      "    \n",
      "    Returns\n",
      "    -------\n",
      "    `.BarContainer`\n",
      "        Container with all the bars and optionally errorbars.\n",
      "    \n",
      "    Other Parameters\n",
      "    ----------------\n",
      "    color : color or list of color, optional\n",
      "        The colors of the bar faces.\n",
      "    \n",
      "    edgecolor : color or list of color, optional\n",
      "        The colors of the bar edges.\n",
      "    \n",
      "    linewidth : float or array-like, optional\n",
      "        Width of the bar edge(s). If 0, don't draw edges.\n",
      "    \n",
      "    tick_label : str or list of str, optional\n",
      "        The tick labels of the bars.\n",
      "        Default: None (Use default numeric labels.)\n",
      "    \n",
      "    xerr, yerr : float or array-like of shape(N,) or shape(2, N), optional\n",
      "        If not *None*, add horizontal / vertical errorbars to the bar tips.\n",
      "        The values are +/- sizes relative to the data:\n",
      "    \n",
      "        - scalar: symmetric +/- values for all bars\n",
      "        - shape(N,): symmetric +/- values for each bar\n",
      "        - shape(2, N): Separate - and + values for each bar. First row\n",
      "          contains the lower errors, the second row contains the upper\n",
      "          errors.\n",
      "        - *None*: No errorbar. (Default)\n",
      "    \n",
      "        See :doc:`/gallery/statistics/errorbar_features`\n",
      "        for an example on the usage of ``xerr`` and ``yerr``.\n",
      "    \n",
      "    ecolor : color or list of color, default: 'black'\n",
      "        The line color of the errorbars.\n",
      "    \n",
      "    capsize : float, default: :rc:`errorbar.capsize`\n",
      "       The length of the error bar caps in points.\n",
      "    \n",
      "    error_kw : dict, optional\n",
      "        Dictionary of kwargs to be passed to the `~.Axes.errorbar`\n",
      "        method. Values of *ecolor* or *capsize* defined here take\n",
      "        precedence over the independent kwargs.\n",
      "    \n",
      "    log : bool, default: False\n",
      "        If *True*, set the y-axis to be log scale.\n",
      "    \n",
      "    data : indexable object, optional\n",
      "        If given, all parameters also accept a string ``s``, which is\n",
      "        interpreted as ``data[s]`` (unless this raises an exception).\n",
      "    \n",
      "    **kwargs : `.Rectangle` properties\n",
      "    \n",
      "    Properties:\n",
      "        agg_filter: a filter function, which takes a (m, n, 3) float array and a dpi value, and returns a (m, n, 3) array\n",
      "        alpha: scalar or None\n",
      "        angle: unknown\n",
      "        animated: bool\n",
      "        antialiased or aa: bool or None\n",
      "        bounds: (left, bottom, width, height)\n",
      "        capstyle: `.CapStyle` or {'butt', 'projecting', 'round'}\n",
      "        clip_box: `.Bbox`\n",
      "        clip_on: bool\n",
      "        clip_path: Patch or (Path, Transform) or None\n",
      "        color: color\n",
      "        edgecolor or ec: color or None\n",
      "        facecolor or fc: color or None\n",
      "        figure: `.Figure`\n",
      "        fill: bool\n",
      "        gid: str\n",
      "        hatch: {'/', '\\\\', '|', '-', '+', 'x', 'o', 'O', '.', '*'}\n",
      "        height: unknown\n",
      "        in_layout: bool\n",
      "        joinstyle: `.JoinStyle` or {'miter', 'round', 'bevel'}\n",
      "        label: object\n",
      "        linestyle or ls: {'-', '--', '-.', ':', '', (offset, on-off-seq), ...}\n",
      "        linewidth or lw: float or None\n",
      "        path_effects: `.AbstractPathEffect`\n",
      "        picker: None or bool or float or callable\n",
      "        rasterized: bool\n",
      "        sketch_params: (scale: float, length: float, randomness: float)\n",
      "        snap: bool or None\n",
      "        transform: `.Transform`\n",
      "        url: str\n",
      "        visible: bool\n",
      "        width: unknown\n",
      "        x: unknown\n",
      "        xy: (float, float)\n",
      "        y: unknown\n",
      "        zorder: float\n",
      "    \n",
      "    See Also\n",
      "    --------\n",
      "    barh : Plot a horizontal bar plot.\n",
      "    \n",
      "    Notes\n",
      "    -----\n",
      "    Stacked bars can be achieved by passing individual *bottom* values per\n",
      "    bar. See :doc:`/gallery/lines_bars_and_markers/bar_stacked`.\n",
      "\n"
     ]
    }
   ],
   "source": [
    "fig, axs = plt.subplots(1,2, figsize = (20,5))\n",
    "fig.suptitle('Bar plot')\n",
    "width = 0.4\n",
    "\n",
    "axs[0].bar(s_m_i.index, s_m_i.values, width)\n",
    "axs[0].set_title('male')\n",
    "axs[0].set_ylabel('Count')\n",
    "\n",
    "axs[1].bar(s_f_i.index, s_f_i.values, width)\n",
    "axs[1].set_title('female')\n",
    "axs[1].set_ylabel('Count')\n",
    "plt.show()\n",
    "print(len(s_m_i.index)) # X\n",
    "print(len(s_m_i.values)) # Y\n",
    "help(plt.bar)"
   ]
  },
  {
   "cell_type": "code",
   "execution_count": null,
   "id": "6254b421",
   "metadata": {},
   "outputs": [],
   "source": []
  },
  {
   "cell_type": "code",
   "execution_count": null,
   "id": "53360280",
   "metadata": {},
   "outputs": [],
   "source": []
  },
  {
   "cell_type": "code",
   "execution_count": null,
   "id": "8e2dcd97",
   "metadata": {},
   "outputs": [],
   "source": []
  },
  {
   "cell_type": "code",
   "execution_count": null,
   "id": "5f403517",
   "metadata": {},
   "outputs": [],
   "source": []
  },
  {
   "cell_type": "code",
   "execution_count": null,
   "id": "9a81a382",
   "metadata": {},
   "outputs": [],
   "source": []
  },
  {
   "cell_type": "code",
   "execution_count": null,
   "id": "2a8960a2",
   "metadata": {},
   "outputs": [],
   "source": []
  },
  {
   "cell_type": "code",
   "execution_count": null,
   "id": "846d0101",
   "metadata": {},
   "outputs": [],
   "source": []
  },
  {
   "cell_type": "code",
   "execution_count": null,
   "id": "dbe36d4e",
   "metadata": {},
   "outputs": [],
   "source": []
  },
  {
   "cell_type": "code",
   "execution_count": null,
   "id": "feebe680",
   "metadata": {},
   "outputs": [],
   "source": []
  },
  {
   "cell_type": "code",
   "execution_count": null,
   "id": "c21fced5",
   "metadata": {},
   "outputs": [],
   "source": []
  },
  {
   "cell_type": "code",
   "execution_count": null,
   "id": "b9a91807",
   "metadata": {},
   "outputs": [],
   "source": []
  },
  {
   "cell_type": "code",
   "execution_count": null,
   "id": "4441c697",
   "metadata": {},
   "outputs": [],
   "source": []
  },
  {
   "cell_type": "code",
   "execution_count": null,
   "id": "14bb5df6",
   "metadata": {},
   "outputs": [],
   "source": []
  },
  {
   "cell_type": "code",
   "execution_count": null,
   "id": "26ac40dd",
   "metadata": {},
   "outputs": [],
   "source": []
  },
  {
   "cell_type": "code",
   "execution_count": null,
   "id": "5027bf84",
   "metadata": {},
   "outputs": [],
   "source": []
  },
  {
   "cell_type": "code",
   "execution_count": null,
   "id": "1a4eb506",
   "metadata": {},
   "outputs": [],
   "source": []
  },
  {
   "cell_type": "code",
   "execution_count": null,
   "id": "34299b16",
   "metadata": {},
   "outputs": [],
   "source": []
  },
  {
   "cell_type": "code",
   "execution_count": null,
   "id": "fe994efb",
   "metadata": {},
   "outputs": [],
   "source": []
  }
 ],
 "metadata": {
  "kernelspec": {
   "display_name": "Python 3 (ipykernel)",
   "language": "python",
   "name": "python3"
  },
  "language_info": {
   "codemirror_mode": {
    "name": "ipython",
    "version": 3
   },
   "file_extension": ".py",
   "mimetype": "text/x-python",
   "name": "python",
   "nbconvert_exporter": "python",
   "pygments_lexer": "ipython3",
   "version": "3.9.12"
  }
 },
 "nbformat": 4,
 "nbformat_minor": 5
}
