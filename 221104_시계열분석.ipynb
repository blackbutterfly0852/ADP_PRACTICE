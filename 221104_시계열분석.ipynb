{
 "cells": [
  {
   "cell_type": "markdown",
   "id": "bdd0e03f",
   "metadata": {
    "toc": true
   },
   "source": [
    "#### 시계열 분석 개념\n",
    "##### 1. 정상성 \n",
    "##### 1) 시계열의 평균과 분산이 일정하고, 특정한 트렌드(추세) 및 계절성이 존재하지 않는 성질\n",
    "##### 2) 평균, 분산 유한, 공분산(시차)에 의존?\n",
    "##### 3) 시계열 자료는 어떤 시간에 따른 확률 과정에서 실현된 값\n",
    "##### 4) 확률 과정은 시간별로 표시된 확률 변수의 집합이며 각 시점 t에서의 값이 확률 분포를 따른다고 본다.\n",
    "##### 5) 만약 시간의 흐름에 따라 확률분포가 크게 변동한다면, 그 실현 값들의 평균이나 분산 등 모멘트가 의미 X\n",
    "##### 6) 적어도 평균과 분산이 확률 과정을 설명하기에 문제가 없도록 하기 위해 필요한 조건이 정상성\n",
    "###### > 시계열의 평균과 분산이 일정해야 시계열 값을 예측 가능\n",
    "###### > 정상성은 통계적 시계열 분석에 필요한 가정\n"
   ]
  },
  {
   "cell_type": "markdown",
   "id": "014b5008",
   "metadata": {},
   "source": [
    "#### 2. 정상성 변환 방법\n",
    "##### 1) 차분 : (t시점의 값) - (t-1시점의 값), t-1개(1차 차분)\n",
    "##### > 연이은 관측값의 차이를 계산하는 차분을 취하면, 그 차이값들의 평균은 일정하기 때문에 정상성을 띈다.\n",
    "##### > 계절성 차분 : (t시점의 값) - (관측치와 같은 같은 계절의 이전 관측값)\n",
    "##### 2) 로그 : 시계열 자료의 값의 변동 자체가 큰 경우, 분산을 감소시키기 위한 목적으로 사용.\n",
    "##### > 로그 변환을 통해 시계열 자료가 선형적인 추세가 보인다면, 시간이 지남에 따라 평균이 일정하지 않다는 의미이며 이는 정상성 만족 X\n",
    "##### > 그러나 증가분(차분)은 일정\n",
    "##### 3) 로그변환 (분산안정화) 후 로그변환 값에 대해서 차분(정상성 만족)\n",
    "##### > 로그변환값의 차분 값 = 증가율\n",
    "##### > GDP의 로그변환값의 차분값이  AR(1) 과정을 따릅니다. > GDP의 증가율이 AR(1)과정을 따릅니다."
   ]
  },
  {
   "cell_type": "markdown",
   "id": "680b9fc4",
   "metadata": {},
   "source": [
    "#### 3. 정상성 검정\n",
    "##### 1) 그래프 검정\n",
    "##### > 그래프 상 추세가 없이 일정한 폭으로 상승과 하락을 반복\n",
    "##### > 정상성 정의 만족\n",
    "##### > 평균으로 회귀하려는 특징(Mean reverting)\n",
    "##### 2) 자기상관함수(ACF; Auto Correlation Function)\n",
    "##### > X 자체의 상관 관계를 구함( t시점, t-k시점)\n",
    "##### > 가로축(시차), 세로축(ACF)\n",
    "##### > Auto Correlation : 자기상관 ex) AC(2) :  자기자신과 2시점 뒤의 자신과의 상관관계\n",
    "##### > 정상성을 띠는 데이터는 파람색 점선, 신뢰구간 안에 자기 상관이 존재.\n",
    "##### 3) Dicky-Fuller 검정(정상성 검정)\n",
    "##### > H0 : B1 == 1(단위근, 정상성 X), H1 : B1 < 1\n",
    "##### > 확률 보행 모형 : B1 == 1, AR(1)  모형,  특성방정식, 정상성 X\n"
   ]
  },
  {
   "cell_type": "markdown",
   "id": "f0b7165e",
   "metadata": {},
   "source": [
    "#### 4. 자기회귀모델(AR : AutoRegressive Model)\n",
    "##### 1) 과거의 값이 현재의 값에 영향을 줄 때 사용하는 모델\n",
    "##### > AR(p) 모형은 시계열 값이 과거 p시점만큼 앞선 시점까지의 값에 의존할 때 쓰는 모형\n",
    "##### > 현 시점의 값을 자기 자신의 과거의 값들로 설명하는 회귀모형을 의미\n",
    "##### 2) 백색잡음 : 평균이 0이며, 분산 일정, 서로 다른 시점에서의 공분산은 0(상관관계 X)\n",
    "##### 3) AR(1) 종류 \n",
    "##### > 확률보행( c == 0, B1 ==1) :  정상성 X ,시간에 따라 분산 증가, 즉 분산이 유한하지 않다.\n",
    "##### > 백색잡음(c==0, B1 == 0) :  정상성 만족\n",
    "##### > 표류가 있는 확률보행(c != 0, B1 == 1) : 정상성 X, 확장적인 추세\n",
    "##### > 정상성 만족모형(-1 < B1 < 1)\n",
    "\n",
    "#### 5. 이동평균모델(MA : Moving Average Model)\n",
    "##### 1) 과거의 충격(Shock, 오차)이 현재의 값에 영향을 줄 때 쓸 수 있는 모형(ex, 비가 온다? > 오늘/내일/모레의 수영장 입장인 수의 영향)\n",
    "##### > MA(q) 모형은 시계열 값이 과거  q 시점만큼 앞선 시점까지의 오차에 의존할 떄 쓰는 모형\n",
    "##### > 현 시점의 값을 과거의 오차 값들로 설명하는 회귀모형 \n",
    "##### 2) 오차(백색잡음)의 정의에 따라 MA는 항상 약한 정상성을 만족."
   ]
  },
  {
   "cell_type": "markdown",
   "id": "13f852bd",
   "metadata": {},
   "source": [
    "##### 6. ARIMA 모델\n",
    "##### 1) ARIMA(p,d,q) : p(AR 부분의 차수), d(차분의 정도), q(MA 부분의 차수)\n",
    "##### > 원 시계열 자료에서 d번 차분해야 ARMA(p,q) 모형을 따른다.\n",
    "##### 2) 종류\n",
    "##### > AR(자귀회귀모델) : ARIMA(p,0,0)\n",
    "##### > 확률보행모델 : 상수가 없는 ARIMA(0,1,0)\n",
    "##### > 백색잡음 : ARIMA(0,0,0)\n",
    "##### > 표류가 있는 확률 보행 : 상수가 있는 ARIMA(0,1,0)\n",
    "##### > MA(이동평균모델) : ARIMA(0,0,q)\n",
    "##### 3) 시차-차수표현\n",
    "##### > ArmaProcess(ar,ma)를 사용하기 위해서는 시차-차수표현 이해 필요\n",
    "##### > ex) AR(2) : ar  = [1, -1, -2], ma = 1\n",
    "##### > ex) MA(2) : ar = 1, ma = [1, +1, +2]\n",
    "##### > AR 모형이어도 ma = 1 값을, MA 모형이어도 ar = 1 값을 넣어줘야 한다."
   ]
  },
  {
   "cell_type": "markdown",
   "id": "e57824bc",
   "metadata": {},
   "source": [
    "#### 7. auto_arima 잘 쓰기 위한 배경지식\n",
    "##### 0) ARIMA(p,d,q)\n",
    "##### > p,d,q를 바꿔가면서 c, AR의 계수들, MA의 계수들의 값을 추정하고, 각 모형에 대해 AIC를 계산\n",
    "##### > AIC 값이 낮은 모델을 선택\n",
    "##### 1) auto_arima 쓰기 전 해야 할 일 (시각화)\n",
    "##### > 데이터상 추세/계절성/주기(고정된 빈도가 아닌 형태로 증가 혹은 감소)가 존재하는지? : 계절성 존재한다면 SARIMA, 주기가 존재한다면 m 옵션 사용\n",
    "##### > 특이한 관측치가 존재하는지?\n",
    "##### > 분산을 안정화해줄 필요가 있는지? : 로그 변환 혹은 Box-Cox 변환\n",
    "##### > ACF(Auto Correlation Function, MA의 q), PACF(Partial AutoCorrelation Function, AR의 p)\n",
    "\n",
    "\n",
    "##### 2) auto_arima 원리(힌드만-칸다카르 알고리즘의 변형된 형태)\n",
    "##### > 최적의 ARIMA 모형을 얻기 위해, 단위근 검정(정상성 파악 목적), AICc 최소화, MLE 결합\n",
    "##### > 시계열 적합시 보통 p+q < 2, p*q = 0의 제약만으로도 충분히 시계열 자료를 설명 가능\n",
    "##### 2) auto_armia 쓴 후 해야 할 일 (잔차 검정)\n",
    "##### > 잔차가 백색검정인지 검정 : Ljung-Box(q) (H0 : 잔차가 백색잡음 시계열을 따른다.)\n",
    "##### > 잔차가 등분산성인지 검정 : Heteroskedasticity (H0 : 잔차가 이분산을 띄지 않는다.)\n",
    "##### > 잔차가 정규성인지 검정 : Jarque-Bera(JB) (H0 : 잔차가 정규성을 만족한다.)\n",
    "##### > 잔차가 정규분포인지 ? : Skew(왜도) : 0, 첨도(Kurtosis) 3\n",
    "##### > 정상성을 만족하는지 검정"
   ]
  },
  {
   "cell_type": "markdown",
   "id": "73c128ba",
   "metadata": {
    "toc": true
   },
   "source": [
    "<h1>Table of Contents<span class=\"tocSkip\"></span></h1>\n",
    "<div class=\"toc\"><ul class=\"toc-item\"><li><span><a href=\"#아래의-데이터를--8:2로-나누세요\" data-toc-modified-id=\"아래의-데이터를--8:2로-나누세요-1\"><span class=\"toc-item-num\">1&nbsp;&nbsp;</span>아래의 데이터를  8:2로 나누세요</a></span></li><li><span><a href=\"#Training-data-set을-가지고-SARIMA-모델의-최적의-매개변수를-구하고-test-set을-예측해보세요\" data-toc-modified-id=\"Training-data-set을-가지고-SARIMA-모델의-최적의-매개변수를-구하고-test-set을-예측해보세요-2\"><span class=\"toc-item-num\">2&nbsp;&nbsp;</span>Training data set을 가지고 SARIMA 모델의 최적의 매개변수를 구하고 test set을 예측해보세요</a></span></li><li><span><a href=\"#모델을-가지고-정확도와-데이터의-특징을-해석해보세요.\" data-toc-modified-id=\"모델을-가지고-정확도와-데이터의-특징을-해석해보세요.-3\"><span class=\"toc-item-num\">3&nbsp;&nbsp;</span>모델을 가지고 정확도와 데이터의 특징을 해석해보세요.</a></span></li></ul></div>"
   ]
  },
  {
   "cell_type": "markdown",
   "id": "d86f365e",
   "metadata": {},
   "source": [
    "#### 1. 아래의 데이터를  8:2로 나누세요 \n",
    "#### 3. 모델을 가지고 정확도와 데이터의 특징을 해석해보세요. "
   ]
  },
  {
   "cell_type": "code",
   "execution_count": 6,
   "id": "f76c591f",
   "metadata": {},
   "outputs": [],
   "source": [
    "import pandas as pd \n",
    "df = pd.read_csv('data/sarima_data.csv')"
   ]
  },
  {
   "cell_type": "code",
   "execution_count": 8,
   "id": "3b623cb0",
   "metadata": {},
   "outputs": [
    {
     "name": "stdout",
     "output_type": "stream",
     "text": [
      "<class 'pandas.core.frame.DataFrame'>\n",
      "RangeIndex: 105 entries, 0 to 104\n",
      "Data columns (total 2 columns):\n",
      " #   Column  Non-Null Count  Dtype \n",
      "---  ------  --------------  ----- \n",
      " 0   date    105 non-null    object\n",
      " 1   sales   105 non-null    int64 \n",
      "dtypes: int64(1), object(1)\n",
      "memory usage: 1.8+ KB\n"
     ]
    }
   ],
   "source": [
    "df.info()"
   ]
  },
  {
   "cell_type": "code",
   "execution_count": 10,
   "id": "65d33c73",
   "metadata": {},
   "outputs": [
    {
     "data": {
      "text/html": [
       "<div>\n",
       "<style scoped>\n",
       "    .dataframe tbody tr th:only-of-type {\n",
       "        vertical-align: middle;\n",
       "    }\n",
       "\n",
       "    .dataframe tbody tr th {\n",
       "        vertical-align: top;\n",
       "    }\n",
       "\n",
       "    .dataframe thead th {\n",
       "        text-align: right;\n",
       "    }\n",
       "</style>\n",
       "<table border=\"1\" class=\"dataframe\">\n",
       "  <thead>\n",
       "    <tr style=\"text-align: right;\">\n",
       "      <th></th>\n",
       "      <th>sales</th>\n",
       "    </tr>\n",
       "    <tr>\n",
       "      <th>date</th>\n",
       "      <th></th>\n",
       "    </tr>\n",
       "  </thead>\n",
       "  <tbody>\n",
       "    <tr>\n",
       "      <th>1964-01-01</th>\n",
       "      <td>2815</td>\n",
       "    </tr>\n",
       "    <tr>\n",
       "      <th>1964-02-01</th>\n",
       "      <td>2672</td>\n",
       "    </tr>\n",
       "    <tr>\n",
       "      <th>1964-03-01</th>\n",
       "      <td>2755</td>\n",
       "    </tr>\n",
       "    <tr>\n",
       "      <th>1964-04-01</th>\n",
       "      <td>2721</td>\n",
       "    </tr>\n",
       "    <tr>\n",
       "      <th>1964-05-01</th>\n",
       "      <td>2946</td>\n",
       "    </tr>\n",
       "    <tr>\n",
       "      <th>...</th>\n",
       "      <td>...</td>\n",
       "    </tr>\n",
       "    <tr>\n",
       "      <th>1972-05-01</th>\n",
       "      <td>4618</td>\n",
       "    </tr>\n",
       "    <tr>\n",
       "      <th>1972-06-01</th>\n",
       "      <td>5312</td>\n",
       "    </tr>\n",
       "    <tr>\n",
       "      <th>1972-07-01</th>\n",
       "      <td>4298</td>\n",
       "    </tr>\n",
       "    <tr>\n",
       "      <th>1972-08-01</th>\n",
       "      <td>1413</td>\n",
       "    </tr>\n",
       "    <tr>\n",
       "      <th>1972-09-01</th>\n",
       "      <td>5877</td>\n",
       "    </tr>\n",
       "  </tbody>\n",
       "</table>\n",
       "<p>105 rows × 1 columns</p>\n",
       "</div>"
      ],
      "text/plain": [
       "            sales\n",
       "date             \n",
       "1964-01-01   2815\n",
       "1964-02-01   2672\n",
       "1964-03-01   2755\n",
       "1964-04-01   2721\n",
       "1964-05-01   2946\n",
       "...           ...\n",
       "1972-05-01   4618\n",
       "1972-06-01   5312\n",
       "1972-07-01   4298\n",
       "1972-08-01   1413\n",
       "1972-09-01   5877\n",
       "\n",
       "[105 rows x 1 columns]"
      ]
     },
     "execution_count": 10,
     "metadata": {},
     "output_type": "execute_result"
    }
   ],
   "source": [
    "# 1. 전처리\n",
    "# 1) 일자를 DateTime 형식 및 인덱스로 변경, 값을 단일컬럼으로 변경\n",
    "df['date'] = pd.to_datetime(df['date'], format = '%Y-%m-%d')\n",
    "df.set_index(df['date'], inplace = True)\n",
    "df.drop(columns = ['date'], inplace = True)\n",
    "df"
   ]
  },
  {
   "cell_type": "code",
   "execution_count": 11,
   "id": "7b75d73a",
   "metadata": {},
   "outputs": [
    {
     "name": "stdout",
     "output_type": "stream",
     "text": [
      "<class 'pandas.core.frame.DataFrame'>\n",
      "DatetimeIndex: 105 entries, 1964-01-01 to 1972-09-01\n",
      "Data columns (total 1 columns):\n",
      " #   Column  Non-Null Count  Dtype\n",
      "---  ------  --------------  -----\n",
      " 0   sales   105 non-null    int64\n",
      "dtypes: int64(1)\n",
      "memory usage: 1.6 KB\n"
     ]
    }
   ],
   "source": [
    "df.info() # 결측치 X"
   ]
  },
  {
   "cell_type": "code",
   "execution_count": 18,
   "id": "7d154340",
   "metadata": {},
   "outputs": [],
   "source": [
    "# 2) Train : Test  = 8 : 2\n",
    "train_idx = int(len(df) * 0.8)\n",
    "train_df = df[:train_idx]\n",
    "test_df = df.drop(train_df.index)"
   ]
  },
  {
   "cell_type": "markdown",
   "id": "e9bc9c3c",
   "metadata": {},
   "source": [
    "#### 2. Training data set을 가지고 SARIMA 모델의 최적의 매개변수를 구하고 test set을 예측해보세요 "
   ]
  },
  {
   "cell_type": "code",
   "execution_count": 20,
   "id": "9fbc8af6",
   "metadata": {},
   "outputs": [
    {
     "data": {
      "text/plain": [
       "<AxesSubplot:xlabel='date'>"
      ]
     },
     "execution_count": 20,
     "metadata": {},
     "output_type": "execute_result"
    },
    {
     "data": {
      "image/png": "[encoded data removed]",
      "text/plain": [
       "<Figure size 432x288 with 1 Axes>"
      ]
     },
     "metadata": {
      "needs_background": "light"
     },
     "output_type": "display_data"
    }
   ],
   "source": [
    "import matplotlib.pyplot as plt\n",
    "train_df.plot()"
   ]
  },
  {
   "cell_type": "code",
   "execution_count": 21,
   "id": "6dae1199",
   "metadata": {},
   "outputs": [],
   "source": [
    "# 평균과 분산이 일정하지 않고, 추세 및 계절정도 존재 > 정상성 만족 X\n",
    "# 정상성 만족 X > 차분이 필요하겠다.\n",
    "# 계절성 혹은 주기성이 보이므로 SARIMA와 m을 설정해야겠다.\n",
    "# 분산이 안정적이지 않으므로 > log 혹은 Box-Cox 변환을 통해 분산을 안정화 시켜야겠다.\n"
   ]
  },
  {
   "cell_type": "code",
   "execution_count": 23,
   "id": "69e3bc7d",
   "metadata": {},
   "outputs": [
    {
     "name": "stderr",
     "output_type": "stream",
     "text": [
      "C:\\Users\\KDB\\AppData\\Local\\Temp\\ipykernel_101072\\1615821023.py:2: SettingWithCopyWarning: \n",
      "A value is trying to be set on a copy of a slice from a DataFrame.\n",
      "Try using .loc[row_indexer,col_indexer] = value instead\n",
      "\n",
      "See the caveats in the documentation: https://pandas.pydata.org/pandas-docs/stable/user_guide/indexing.html#returning-a-view-versus-a-copy\n",
      "  train_df['sales'] = np.log(train_df['sales'])\n"
     ]
    },
    {
     "data": {
      "text/html": [
       "<div>\n",
       "<style scoped>\n",
       "    .dataframe tbody tr th:only-of-type {\n",
       "        vertical-align: middle;\n",
       "    }\n",
       "\n",
       "    .dataframe tbody tr th {\n",
       "        vertical-align: top;\n",
       "    }\n",
       "\n",
       "    .dataframe thead th {\n",
       "        text-align: right;\n",
       "    }\n",
       "</style>\n",
       "<table border=\"1\" class=\"dataframe\">\n",
       "  <thead>\n",
       "    <tr style=\"text-align: right;\">\n",
       "      <th></th>\n",
       "      <th>sales</th>\n",
       "    </tr>\n",
       "    <tr>\n",
       "      <th>date</th>\n",
       "      <th></th>\n",
       "    </tr>\n",
       "  </thead>\n",
       "  <tbody>\n",
       "    <tr>\n",
       "      <th>1964-01-01</th>\n",
       "      <td>7.942718</td>\n",
       "    </tr>\n",
       "    <tr>\n",
       "      <th>1964-02-01</th>\n",
       "      <td>7.890583</td>\n",
       "    </tr>\n",
       "    <tr>\n",
       "      <th>1964-03-01</th>\n",
       "      <td>7.921173</td>\n",
       "    </tr>\n",
       "    <tr>\n",
       "      <th>1964-04-01</th>\n",
       "      <td>7.908755</td>\n",
       "    </tr>\n",
       "    <tr>\n",
       "      <th>1964-05-01</th>\n",
       "      <td>7.988204</td>\n",
       "    </tr>\n",
       "    <tr>\n",
       "      <th>...</th>\n",
       "      <td>...</td>\n",
       "    </tr>\n",
       "    <tr>\n",
       "      <th>1970-08-01</th>\n",
       "      <td>7.460490</td>\n",
       "    </tr>\n",
       "    <tr>\n",
       "      <th>1970-09-01</th>\n",
       "      <td>8.560444</td>\n",
       "    </tr>\n",
       "    <tr>\n",
       "      <th>1970-10-01</th>\n",
       "      <td>8.767796</td>\n",
       "    </tr>\n",
       "    <tr>\n",
       "      <th>1970-11-01</th>\n",
       "      <td>9.194414</td>\n",
       "    </tr>\n",
       "    <tr>\n",
       "      <th>1970-12-01</th>\n",
       "      <td>9.478534</td>\n",
       "    </tr>\n",
       "  </tbody>\n",
       "</table>\n",
       "<p>84 rows × 1 columns</p>\n",
       "</div>"
      ],
      "text/plain": [
       "               sales\n",
       "date                \n",
       "1964-01-01  7.942718\n",
       "1964-02-01  7.890583\n",
       "1964-03-01  7.921173\n",
       "1964-04-01  7.908755\n",
       "1964-05-01  7.988204\n",
       "...              ...\n",
       "1970-08-01  7.460490\n",
       "1970-09-01  8.560444\n",
       "1970-10-01  8.767796\n",
       "1970-11-01  9.194414\n",
       "1970-12-01  9.478534\n",
       "\n",
       "[84 rows x 1 columns]"
      ]
     },
     "execution_count": 23,
     "metadata": {},
     "output_type": "execute_result"
    }
   ],
   "source": [
    "import numpy as np\n",
    "train_df['sales'] = np.log(train_df['sales'])\n",
    "train_df"
   ]
  },
  {
   "cell_type": "code",
   "execution_count": 24,
   "id": "b5d8a59e",
   "metadata": {},
   "outputs": [
    {
     "data": {
      "text/plain": [
       "<AxesSubplot:xlabel='date'>"
      ]
     },
     "execution_count": 24,
     "metadata": {},
     "output_type": "execute_result"
    },
    {
     "data": {
      "image/png": "[encoded data removed]",
      "text/plain": [
       "<Figure size 432x288 with 1 Axes>"
      ]
     },
     "metadata": {
      "needs_background": "light"
     },
     "output_type": "display_data"
    }
   ],
   "source": [
    "train_df.plot() # 분산은 안정화 되었지만 아직 정상성은 만족 X > 차분 필요"
   ]
  },
  {
   "cell_type": "code",
   "execution_count": 2,
   "id": "baf52d3a",
   "metadata": {},
   "outputs": [
    {
     "ename": "ModuleNotFoundError",
     "evalue": "No module named 'pmdarima'",
     "output_type": "error",
     "traceback": [
      "\u001b[1;31m---------------------------------------------------------------------------\u001b[0m",
      "\u001b[1;31mModuleNotFoundError\u001b[0m                       Traceback (most recent call last)",
      "Input \u001b[1;32mIn [2]\u001b[0m, in \u001b[0;36m<cell line: 3>\u001b[1;34m()\u001b[0m\n\u001b[0;32m      1\u001b[0m \u001b[38;5;66;03m# 몇 차 차분이 최선인지?\u001b[39;00m\n\u001b[0;32m      2\u001b[0m \u001b[38;5;66;03m#from pmdarima.arima import ndiffs\u001b[39;00m\n\u001b[1;32m----> 3\u001b[0m \u001b[38;5;28;01mimport\u001b[39;00m \u001b[38;5;21;01mpmdarima\u001b[39;00m \u001b[38;5;28;01mas\u001b[39;00m \u001b[38;5;21;01mpm\u001b[39;00m\n",
      "\u001b[1;31mModuleNotFoundError\u001b[0m: No module named 'pmdarima'"
     ]
    }
   ],
   "source": [
    "# 몇 차 차분이 최선인지?\n",
    "#from pmdarima.arima import ndiffs\n",
    "import pmdarima as pm"
   ]
  },
  {
   "cell_type": "code",
   "execution_count": null,
   "id": "5b871931",
   "metadata": {},
   "outputs": [],
   "source": []
  },
  {
   "cell_type": "code",
   "execution_count": null,
   "id": "7715ad9b",
   "metadata": {},
   "outputs": [],
   "source": []
  },
  {
   "cell_type": "code",
   "execution_count": 25,
   "id": "473b5547",
   "metadata": {},
   "outputs": [
    {
     "name": "stderr",
     "output_type": "stream",
     "text": [
      "C:\\Users\\KDB\\AppData\\Local\\Temp\\ipykernel_101072\\3494706964.py:1: SettingWithCopyWarning: \n",
      "A value is trying to be set on a copy of a slice from a DataFrame.\n",
      "Try using .loc[row_indexer,col_indexer] = value instead\n",
      "\n",
      "See the caveats in the documentation: https://pandas.pydata.org/pandas-docs/stable/user_guide/indexing.html#returning-a-view-versus-a-copy\n",
      "  train_df['sales'] = train_df['sales'].diff(1)\n"
     ]
    }
   ],
   "source": [
    "train_df['sales'] = train_df['sales'].diff(1)"
   ]
  },
  {
   "cell_type": "code",
   "execution_count": 26,
   "id": "e327cb29",
   "metadata": {},
   "outputs": [
    {
     "data": {
      "text/plain": [
       "<AxesSubplot:xlabel='date'>"
      ]
     },
     "execution_count": 26,
     "metadata": {},
     "output_type": "execute_result"
    },
    {
     "data": {
      "image/png": "[encoded data removed]",
      "text/plain": [
       "<Figure size 432x288 with 1 Axes>"
      ]
     },
     "metadata": {
      "needs_background": "light"
     },
     "output_type": "display_data"
    }
   ],
   "source": [
    "train_df.plot() # 1"
   ]
  },
  {
   "cell_type": "code",
   "execution_count": null,
   "id": "0858ca7e",
   "metadata": {},
   "outputs": [],
   "source": []
  },
  {
   "cell_type": "code",
   "execution_count": null,
   "id": "c8510831",
   "metadata": {},
   "outputs": [],
   "source": []
  },
  {
   "cell_type": "code",
   "execution_count": null,
   "id": "8d572fa3",
   "metadata": {},
   "outputs": [],
   "source": []
  },
  {
   "cell_type": "code",
   "execution_count": null,
   "id": "aef1b940",
   "metadata": {},
   "outputs": [],
   "source": []
  },
  {
   "cell_type": "code",
   "execution_count": null,
   "id": "fcdc42f2",
   "metadata": {},
   "outputs": [],
   "source": []
  },
  {
   "cell_type": "code",
   "execution_count": null,
   "id": "b20d061b",
   "metadata": {},
   "outputs": [],
   "source": []
  }
 ],
 "metadata": {
  "kernelspec": {
   "display_name": "Python 3 (ipykernel)",
   "language": "python",
   "name": "python3"
  },
  "language_info": {
   "codemirror_mode": {
    "name": "ipython",
    "version": 3
   },
   "file_extension": ".py",
   "mimetype": "text/x-python",
   "name": "python",
   "nbconvert_exporter": "python",
   "pygments_lexer": "ipython3",
   "version": "3.9.12"
  },
  "toc": {
   "base_numbering": 1,
   "nav_menu": {},
   "number_sections": true,
   "sideBar": true,
   "skip_h1_title": false,
   "title_cell": "Table of Contents",
   "title_sidebar": "Contents",
   "toc_cell": true,
   "toc_position": {},
   "toc_section_display": true,
   "toc_window_display": true
  }
 },
 "nbformat": 4,
 "nbformat_minor": 5
}
