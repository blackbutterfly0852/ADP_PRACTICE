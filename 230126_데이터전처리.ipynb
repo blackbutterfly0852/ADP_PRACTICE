{
 "cells": [
  {
   "cell_type": "code",
   "execution_count": 19,
   "id": "d08a2177",
   "metadata": {},
   "outputs": [
    {
     "name": "stdout",
     "output_type": "stream",
     "text": [
      "150\n",
      "75\n",
      "--------------------\n",
      "(105, 4)\n",
      "Iris-virginica     39\n",
      "Iris-versicolor    33\n",
      "Iris-setosa        33\n",
      "Name: target, dtype: int64\n",
      "----------\n",
      "(45, 4)\n",
      "Iris-versicolor    17\n",
      "Iris-setosa        17\n",
      "Iris-virginica     11\n",
      "Name: target, dtype: int64\n",
      "--------------------\n",
      "(105, 4)\n",
      "Iris-virginica     35\n",
      "Iris-setosa        35\n",
      "Iris-versicolor    35\n",
      "Name: target, dtype: int64\n",
      "----------\n",
      "(45, 4)\n",
      "Iris-virginica     15\n",
      "Iris-setosa        15\n",
      "Iris-versicolor    15\n",
      "Name: target, dtype: int64\n"
     ]
    }
   ],
   "source": [
    "import pandas as pd\n",
    "from sklearn.model_selection import train_test_split\n",
    "# 1. 표본추출\n",
    "df = pd.read_csv('data/iris.csv')\n",
    "# 1)단순임의추출(복원, 비복원) : 각 원소(개체)에 번호를 부여하여, 임의적으로 n개를 추출하는 방법으로 모든 원소(개체)는 선택될 확률이 동일.\n",
    "# 1-1) 단순임의추출 (n : 개수추출, frac : 비율추출, replace = True : 복원추출) \n",
    "df_simple = df.sample(frac = 0.5, replace = True, random_state = 2023)\n",
    "print(len(df))\n",
    "print(len(df_simple))\n",
    "print('--------------------')\n",
    "\n",
    "\n",
    "\n",
    "# 1-2) 독립변수/종속변수로 분리하여 단순임의추출을 진행하는 경우\n",
    "X = df.drop(columns = ['target'])\n",
    "y = df['target']\n",
    "X_train, X_test, y_train, y_test = train_test_split(X, y, test_size = 0.3, random_state = 2023)\n",
    "print(X_train.shape)\n",
    "print(y_train.value_counts())\n",
    "print('----------')\n",
    "print(X_test.shape)\n",
    "print(y_test.value_counts())\n",
    "print('--------------------')\n",
    "\n",
    "\n",
    "\n",
    "# 2) 층화임의추출법 : 모집단이 이질적인 몇 개의 계층으로 이루어져 있을 때 모든 계층으로부터 원소(개체)를 임의로 추출하여,\n",
    "#                 각 계층을 고루 대표할 수 있도록 임의적으로 표본을 추출하는 방법.(shuffle = True : default, 추출 전에 데이터를 섞음)\n",
    "X_train, X_test, y_train, y_test = train_test_split(X, y, test_size = 0.3, stratify = y, random_state = 2023)\n",
    "print(X_train.shape)\n",
    "print(y_train.value_counts())\n",
    "print('----------')\n",
    "print(X_test.shape)\n",
    "print(y_test.value_counts())\n"
   ]
  }
 ],
 "metadata": {
  "kernelspec": {
   "display_name": "Python 3 (ipykernel)",
   "language": "python",
   "name": "python3"
  },
  "language_info": {
   "codemirror_mode": {
    "name": "ipython",
    "version": 3
   },
   "file_extension": ".py",
   "mimetype": "text/x-python",
   "name": "python",
   "nbconvert_exporter": "python",
   "pygments_lexer": "ipython3",
   "version": "3.10.9"
  }
 },
 "nbformat": 4,
 "nbformat_minor": 5
}
