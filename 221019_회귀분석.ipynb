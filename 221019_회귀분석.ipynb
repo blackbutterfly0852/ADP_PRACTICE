{
 "cells": [
  {
   "cell_type": "markdown",
   "id": "78fd2d88",
   "metadata": {
    "toc": true
   },
   "source": [
    "<h1>Table of Contents<span class=\"tocSkip\"></span></h1>\n",
    "<div class=\"toc\"><ul class=\"toc-item\"><li><span><a href=\"#회귀분석-과제\" data-toc-modified-id=\"회귀분석-과제-1\"><span class=\"toc-item-num\">1&nbsp;&nbsp;</span>회귀분석 과제</a></span><ul class=\"toc-item\"><li><span><a href=\"#kc_house_data.csv데이터에서-id,-date를-삭제하세요.\" data-toc-modified-id=\"kc_house_data.csv데이터에서-id,-date를-삭제하세요.-1.1\"><span class=\"toc-item-num\">1.1&nbsp;&nbsp;</span>kc_house_data.csv데이터에서 id, date를 삭제하세요.</a></span></li><li><span><a href=\"#종속변수:-price,-데이터-내-수치형-변수를-독립변수로-설정하세요\" data-toc-modified-id=\"종속변수:-price,-데이터-내-수치형-변수를-독립변수로-설정하세요-1.2\"><span class=\"toc-item-num\">1.2&nbsp;&nbsp;</span>종속변수: price, 데이터 내 수치형 변수를 독립변수로 설정하세요</a></span></li><li><span><a href=\"#수치형-변수이더라도-범주형-변수인-값을-구분하고-더미변수화-시키세요-(데이터는-수치형이나,-데이터가-category라면-범주형변수입니다.-ex)-grade)\" data-toc-modified-id=\"수치형-변수이더라도-범주형-변수인-값을-구분하고-더미변수화-시키세요-(데이터는-수치형이나,-데이터가-category라면-범주형변수입니다.-ex)-grade)-1.3\"><span class=\"toc-item-num\">1.3&nbsp;&nbsp;</span>수치형 변수이더라도 범주형 변수인 값을 구분하고 더미변수화 시키세요 (데이터는 수치형이나, 데이터가 category라면 범주형변수입니다. ex) grade)</a></span></li></ul></li></ul></div>"
   ]
  },
  {
   "cell_type": "markdown",
   "id": "1abde576",
   "metadata": {},
   "source": [
    "### 회귀분석\n",
    "#### 1. 개념\n",
    "##### 1) 독립변수와 종속변수의 관계의 정도 >  독립변수 한 단위 변화에 따른 종속변수의 변화 정도 > 추정, 예측\n",
    "##### 2) 변수들 사이의 인과관계를 밝히고 모형을 적합하여 관심있는 변수를 예측하거나 추론하기 위해 사용하는 분석 방법\n",
    "##### 3) 가정 : 선형성, 정규성(수집된 데이터/분산의 산포/오차항(잔차)의 정규성, 오차항(잔차)의 기대값 = 0) , 오차항(잔차)의 등분산성,\n",
    "##### 독립성(독립변수는 고정값, 독립적 추출, 오차항(잔차)의 독립성)\n",
    "##### > 오차항(잔차)의 정규성 : Q-Q plot, Shapiro-Wilk \n",
    "##### > 오차항(잔차)의 독립성 : Durbin-Watson (2 : 독립성 만족, 0 : 오차항간 음의 관계, 4 : 오차항간 양의 관계)\n",
    "##### 4) 독립변수의 한 단위 투입\n",
    "#### 2. 단순선형회귀분석\n",
    "##### 1) 하나의 독립변수\n",
    "##### 2) 회귀식 추정 : 최소제곱합, 잔차의 최소 제곱합이 최소가 되는 회귀계수\n",
    "##### 3) 회귀식 유의성 검토 : F통계량, H0 :  회귀식이 유의하지 않다. H1 : 회귀식이 유의하다.\n",
    "##### > 총 편차 = 설명되지 않는 편차 + 설명되는 편차\n",
    "##### > 왜 설명되는 편차 인가? 독립변수가 두 단위 투입 가정 > 종속변수의 기대값은 종속변수들의 평균값 부터 ~ 계산된 종속변수 값까지 이다.\n",
    "##### > SST = SSE + SSR , 자유도(n-1, n-2, 1)\n",
    "##### > MSE = SSE / (n-2), MSR = SSR / 1 > 분산비율 F = MSR / MSE\n",
    "##### > MSR이 크면 설명되는 편차가 더 크기 때문에 회귀식이 유의하다라는 결론. 즉 대립가설은 회귀식이 유의하다.\n",
    "##### 4) 적합도 검정(설명력(R^2)) 및 회귀계수 유의성 검토\n",
    "##### > 적합도 검정(설명력(R^2)) : 회귀제곱합(SSR) / 총 제곱합(SST) 이며, 독립변수가 추가될수록 설명력이 늘어난다는 한계, 0~1 범위\n",
    "##### > 회귀계수의 유의성 검토 : T통계량, H0: 회귀계수(B0 or B1) 가 유의하지 않다. H1 : 회귀계수(B0 or B1) 가 유의하다."
   ]
  },
  {
   "cell_type": "markdown",
   "id": "cd8ed7e2",
   "metadata": {},
   "source": [
    "#### kc_house_data 데이터의 sqft_living(주거공간의 평방 피트)를 독립변수, price를 종속변수로 설정하여 단순 선형 회귀분석을 실시한 후, 추정된 회귀모형에 대해 해석하라\n",
    "#### 1. 데이터 확인\n",
    "##### 1-1) 결측치 및 데이터 타입 확인\n",
    "##### 1-2) 단순회귀분석 가정 만족 확인 (선형성)\n",
    "\n",
    "#### 2. 단순회귀분석 모형 적합\n",
    "##### 2-1) 최소제곱법으로 회귀계수 추출\n",
    "\n",
    "#### 3. 해석\n",
    "##### 3-1) 단순회귀분석 가정 만족 확인 (데이터의 선형성, 오차항의 정규성 / 등분산성)\n",
    "##### 3-2) RMSE\n",
    "##### 3-3) lr.summary()\n",
    "##### 3-4) 회귀모델 시각화\n",
    "##### 3-5) 해석\n",
    "#####      > 독립변수, 종속변수\n",
    "#####      > 회귀식의 유의성(F통계량)\n",
    "#####      > 적합성 검정(설명력 R^2)\n",
    "#####      > 회귀계수의 유의성(T통계량)\n",
    "#####      > 오차항의 독립성(더빈 왓슨)\n",
    "#####      > 추정된 회귀식 \n",
    "#####      > + 회귀식에 적합한 데이터인가?"
   ]
  },
  {
   "cell_type": "code",
   "execution_count": 166,
   "id": "748c5a75",
   "metadata": {},
   "outputs": [
    {
     "name": "stdout",
     "output_type": "stream",
     "text": [
      "<class 'pandas.core.frame.DataFrame'>\n",
      "RangeIndex: 21613 entries, 0 to 21612\n",
      "Data columns (total 18 columns):\n",
      " #   Column         Non-Null Count  Dtype  \n",
      "---  ------         --------------  -----  \n",
      " 0   id             21613 non-null  int64  \n",
      " 1   date           21613 non-null  object \n",
      " 2   price          21613 non-null  float64\n",
      " 3   bedrooms       21613 non-null  int64  \n",
      " 4   bathrooms      21613 non-null  float64\n",
      " 5   sqft_living    21613 non-null  int64  \n",
      " 6   sqft_lot       21613 non-null  int64  \n",
      " 7   floors         21613 non-null  float64\n",
      " 8   waterfront     21613 non-null  object \n",
      " 9   view           21613 non-null  int64  \n",
      " 10  condition      21613 non-null  int64  \n",
      " 11  grade          21613 non-null  int64  \n",
      " 12  sqft_above     21613 non-null  int64  \n",
      " 13  sqft_basement  21613 non-null  int64  \n",
      " 14  yr_built       21613 non-null  int64  \n",
      " 15  yr_renovated   21613 non-null  int64  \n",
      " 16  sqft_living15  21613 non-null  int64  \n",
      " 17  sqft_lot15     21613 non-null  int64  \n",
      "dtypes: float64(3), int64(13), object(2)\n",
      "memory usage: 3.0+ MB\n"
     ]
    },
    {
     "data": {
      "text/plain": [
       "7700000.0"
      ]
     },
     "execution_count": 166,
     "metadata": {},
     "output_type": "execute_result"
    }
   ],
   "source": [
    "# 1. 데이터 확인\n",
    "##### 1-1) 결측치 및 데이터 타입 확인\n",
    "import pandas as pd\n",
    "df = pd.read_csv('data/kc_house_data.csv')\n",
    "df.info() # sqft_living(주거공간의 평방피트) 및 price(가격)은 결측치가 없으며 모두 수치형이다.\n",
    "##### 1-2) 단순회귀분석 가정 만족 확인 (선형성)\n",
    "X = df['sqft_living']\n",
    "y = df['price']\n",
    "df_2 = df[['sqft_living', 'price']]\n",
    "df_2.corr() # 0.7 이상이므로 강한 선형 관계를 보인다."
   ]
  },
  {
   "cell_type": "code",
   "execution_count": 15,
   "id": "4f62278b",
   "metadata": {
    "scrolled": true
   },
   "outputs": [
    {
     "data": {
      "text/plain": [
       "Intercept     -43580.743094\n",
       "sqft_living      280.623568\n",
       "dtype: float64"
      ]
     },
     "execution_count": 15,
     "metadata": {},
     "output_type": "execute_result"
    }
   ],
   "source": [
    "#### 2. 단순회귀분석 모형 적합\n",
    "##### 2-1) 최소제곱법으로 회귀계수 추출\n",
    "from statsmodels.formula.api import ols\n",
    "formula = 'price ~ sqft_living'\n",
    "lr = ols(formula, data = df_2).fit()\n",
    "lr.params # 최소제곱법으로 추정된 회귀계수는 Y절편 : -43580.743, 기울기 : 280.623"
   ]
  },
  {
   "cell_type": "code",
   "execution_count": 172,
   "id": "65444acc",
   "metadata": {},
   "outputs": [
    {
     "name": "stdout",
     "output_type": "stream",
     "text": [
      "37800.09159578579 3756062.36623698\n"
     ]
    },
    {
     "name": "stderr",
     "output_type": "stream",
     "text": [
      "C:\\Users\\KDB\\anaconda3\\lib\\site-packages\\seaborn\\_decorators.py:36: FutureWarning: Pass the following variables as keyword args: x, y. From version 0.12, the only valid positional argument will be `data`, and passing other arguments without an explicit keyword will result in an error or misinterpretation.\n",
      "  warnings.warn(\n"
     ]
    },
    {
     "data": {
      "text/plain": [
       "[<matplotlib.lines.Line2D at 0x1b49793e790>]"
      ]
     },
     "execution_count": 172,
     "metadata": {},
     "output_type": "execute_result"
    },
    {
     "data": {
      "image/png": "[encoded data removed]",
      "text/plain": [
       "<Figure size 432x288 with 1 Axes>"
      ]
     },
     "metadata": {
      "needs_background": "light"
     },
     "output_type": "display_data"
    }
   ],
   "source": [
    "import seaborn as sns\n",
    "import matplotlib.pyplot as plt\n",
    "##### 1-2) 단순회귀분석 가정 만족 확인 (선형성 + 추가)\n",
    "y_pred = lr.predict(X) # y 추정값\n",
    "resid = y -  y_pred # 잔차\n",
    "print(y_pred.min(),  y_pred.max())\n",
    "sns.regplot(y_pred, resid, lowess = True, line_kws = {'color' : 'red'})\n",
    "plt.plot([y_pred.min(), y_pred.max()], [0, 0], '--', color = 'grey')\n",
    "# 추정값(y_pred)과 잔차(resid)를 비교\n",
    "# 추정값(파란원), 잔차의 추세(빨간 실선)\n",
    "# 모든 추정값에서 가운데 점선에 맞추어 잔차가 비슷하게 있어야 한다.\n",
    "# 빨간 실선은 잔차의 추세를 나타낸다.\n",
    "# 빨간 실선이 점선에서 크게 벗어난다면 예측값에 따라 잔차가 크게 달라진다는 것으로 선형성이 없다는 것이다."
   ]
  },
  {
   "cell_type": "code",
   "execution_count": 173,
   "id": "ac70325c",
   "metadata": {
    "scrolled": true
   },
   "outputs": [
    {
     "name": "stdout",
     "output_type": "stream",
     "text": [
      "ShapiroResult(statistic=0.8369508981704712, pvalue=0.0)\n"
     ]
    },
    {
     "name": "stderr",
     "output_type": "stream",
     "text": [
      "C:\\Users\\KDB\\anaconda3\\lib\\site-packages\\scipy\\stats\\morestats.py:1760: UserWarning: p-value may not be accurate for N > 5000.\n",
      "  warnings.warn(\"p-value may not be accurate for N > 5000.\")\n"
     ]
    },
    {
     "data": {
      "image/png": "[encoded data removed]",
      "text/plain": [
       "<Figure size 432x288 with 1 Axes>"
      ]
     },
     "metadata": {
      "needs_background": "light"
     },
     "output_type": "display_data"
    }
   ],
   "source": [
    "##### 3. 해석\n",
    "##### 3-1) 단순회귀분석 가정 만족 확인 (오차항의 정규성, 오차항의 등분산성)\n",
    "import scipy.stats as stats\n",
    "from scipy.stats import shapiro\n",
    "import matplotlib.pyplot as plt\n",
    "import statsmodels.api as sm\n",
    "\n",
    "##### > 오차항(잔차)의 정규성\n",
    "# shapiro 검정(H0 : 정규성을 만족한다. H1 : 정규성을 만족하지 못한다.)\n",
    "print(stats.shapiro(resid)) # shapiro 검정은 데이터가 5000건 초과부터는 p-value 값이 정확하지 않을 수 있다. > 우선 0.0 이므로 정규성 만족 X\n",
    "# Q-Q plot \n",
    "# line은 참조선 >'45'(45도 선), 's'(표준화된 라인), 'r'(회귀선), 'q'(사분위수를 통과하는 선) 옵션이 있음\n",
    "# 잔차가 회귀선(빨간색)선에 다수 적합하면 정규성을 만족한다.\n",
    "sm.qqplot(resid, line = 'r', alpha = 0.4)\n",
    "plt.show()\n",
    "# Q-Q plot을 봤을 때 오른쪽 꼬리가 길다. 왼쪽으로 치우처진 그래프로 판단.\n",
    "# 정규성을 만족못한다."
   ]
  },
  {
   "cell_type": "code",
   "execution_count": 174,
   "id": "57f62042",
   "metadata": {},
   "outputs": [
    {
     "name": "stderr",
     "output_type": "stream",
     "text": [
      "C:\\Users\\KDB\\anaconda3\\lib\\site-packages\\seaborn\\_decorators.py:36: FutureWarning: Pass the following variables as keyword args: x, y. From version 0.12, the only valid positional argument will be `data`, and passing other arguments without an explicit keyword will result in an error or misinterpretation.\n",
      "  warnings.warn(\n"
     ]
    },
    {
     "data": {
      "text/plain": [
       "<AxesSubplot:>"
      ]
     },
     "execution_count": 174,
     "metadata": {},
     "output_type": "execute_result"
    },
    {
     "data": {
      "image/png": "[encoded data removed]",
      "text/plain": [
       "<Figure size 432x288 with 1 Axes>"
      ]
     },
     "metadata": {
      "needs_background": "light"
     },
     "output_type": "display_data"
    }
   ],
   "source": [
    "##### > 오차항(잔차)의 등분산성\n",
    "# 회귀모형을 통햬 예측된 값과 무관하게, 모든 값들에 대하여 잔차의 분산이 동일하다는 가정\n",
    "# 아래 그래프는 예측값(X축)에 따라 잔차가 어떻게 달라지는지 보여줌\n",
    "# 빨간색 실선이 수평선에 가까울수록 등분산성이 있다는 것이다.\n",
    "import numpy as np\n",
    "import scipy.stats\n",
    "sr = scipy.stats.zscore(resid)\n",
    "sns.regplot(y_pred, np.sqrt(np.abs(sr)), lowess=True, line_kws={'color': 'red'})\n",
    "# 빨간색 실선이 약 30도이기 때문에 등분산성을 만족 못한다."
   ]
  },
  {
   "cell_type": "code",
   "execution_count": 176,
   "id": "093f7855",
   "metadata": {},
   "outputs": [
    {
     "name": "stdout",
     "output_type": "stream",
     "text": [
      "68351286833.03982   261440.79030067174\n"
     ]
    }
   ],
   "source": [
    "##### 3-2) RMSE 확인\n",
    "# MSE : 잔차제곱의 합 / 평균\n",
    "# RMSE : MSE의 root(회귀모델 평가, 비교, 설명 시 수정된 결정계수와 같이 사용)\n",
    "#        추정치와 관측지와 평균적으로 얼마만큼 떨어져 있는지 확인가능\n",
    "mse = (resid**2).sum() / len(y)\n",
    "rmse = np.sqrt(mse) # \n",
    "print(mse, \" \", rmse)\n",
    "# 가격의 추정치와 가격의 관측치가 평균 261,440 만큼 차이난다."
   ]
  },
  {
   "cell_type": "code",
   "execution_count": null,
   "id": "0b5d8267",
   "metadata": {},
   "outputs": [],
   "source": [
    "##### 3-3) lr.summary 확인(회귀식의 유의성, 적합성 검정, 회귀계수의 유의성, 회귀변수의 독립성)"
   ]
  },
  {
   "cell_type": "code",
   "execution_count": 177,
   "id": "2354a79e",
   "metadata": {
    "scrolled": true
   },
   "outputs": [
    {
     "data": {
      "text/html": [
       "<table class=\"simpletable\">\n",
       "<caption>OLS Regression Results</caption>\n",
       "<tr>\n",
       "  <th>Dep. Variable:</th>          <td>price</td>      <th>  R-squared:         </th>  <td>   0.493</td>  \n",
       "</tr>\n",
       "<tr>\n",
       "  <th>Model:</th>                   <td>OLS</td>       <th>  Adj. R-squared:    </th>  <td>   0.493</td>  \n",
       "</tr>\n",
       "<tr>\n",
       "  <th>Method:</th>             <td>Least Squares</td>  <th>  F-statistic:       </th>  <td>2.100e+04</td> \n",
       "</tr>\n",
       "<tr>\n",
       "  <th>Date:</th>             <td>Wed, 19 Oct 2022</td> <th>  Prob (F-statistic):</th>   <td>  0.00</td>   \n",
       "</tr>\n",
       "<tr>\n",
       "  <th>Time:</th>                 <td>15:11:27</td>     <th>  Log-Likelihood:    </th> <td>-3.0027e+05</td>\n",
       "</tr>\n",
       "<tr>\n",
       "  <th>No. Observations:</th>      <td> 21613</td>      <th>  AIC:               </th>  <td>6.005e+05</td> \n",
       "</tr>\n",
       "<tr>\n",
       "  <th>Df Residuals:</th>          <td> 21611</td>      <th>  BIC:               </th>  <td>6.006e+05</td> \n",
       "</tr>\n",
       "<tr>\n",
       "  <th>Df Model:</th>              <td>     1</td>      <th>                     </th>      <td> </td>     \n",
       "</tr>\n",
       "<tr>\n",
       "  <th>Covariance Type:</th>      <td>nonrobust</td>    <th>                     </th>      <td> </td>     \n",
       "</tr>\n",
       "</table>\n",
       "<table class=\"simpletable\">\n",
       "<tr>\n",
       "       <td></td>          <th>coef</th>     <th>std err</th>      <th>t</th>      <th>P>|t|</th>  <th>[0.025</th>    <th>0.975]</th>  \n",
       "</tr>\n",
       "<tr>\n",
       "  <th>Intercept</th>   <td>-4.358e+04</td> <td> 4402.690</td> <td>   -9.899</td> <td> 0.000</td> <td>-5.22e+04</td> <td> -3.5e+04</td>\n",
       "</tr>\n",
       "<tr>\n",
       "  <th>sqft_living</th> <td>  280.6236</td> <td>    1.936</td> <td>  144.920</td> <td> 0.000</td> <td>  276.828</td> <td>  284.419</td>\n",
       "</tr>\n",
       "</table>\n",
       "<table class=\"simpletable\">\n",
       "<tr>\n",
       "  <th>Omnibus:</th>       <td>14832.490</td> <th>  Durbin-Watson:     </th>  <td>   1.983</td> \n",
       "</tr>\n",
       "<tr>\n",
       "  <th>Prob(Omnibus):</th>  <td> 0.000</td>   <th>  Jarque-Bera (JB):  </th> <td>546444.713</td>\n",
       "</tr>\n",
       "<tr>\n",
       "  <th>Skew:</th>           <td> 2.824</td>   <th>  Prob(JB):          </th>  <td>    0.00</td> \n",
       "</tr>\n",
       "<tr>\n",
       "  <th>Kurtosis:</th>       <td>26.977</td>   <th>  Cond. No.          </th>  <td>5.63e+03</td> \n",
       "</tr>\n",
       "</table><br/><br/>Notes:<br/>[1] Standard Errors assume that the covariance matrix of the errors is correctly specified.<br/>[2] The condition number is large, 5.63e+03. This might indicate that there are<br/>strong multicollinearity or other numerical problems."
      ],
      "text/plain": [
       "<class 'statsmodels.iolib.summary.Summary'>\n",
       "\"\"\"\n",
       "                            OLS Regression Results                            \n",
       "==============================================================================\n",
       "Dep. Variable:                  price   R-squared:                       0.493\n",
       "Model:                            OLS   Adj. R-squared:                  0.493\n",
       "Method:                 Least Squares   F-statistic:                 2.100e+04\n",
       "Date:                Wed, 19 Oct 2022   Prob (F-statistic):               0.00\n",
       "Time:                        15:11:27   Log-Likelihood:            -3.0027e+05\n",
       "No. Observations:               21613   AIC:                         6.005e+05\n",
       "Df Residuals:                   21611   BIC:                         6.006e+05\n",
       "Df Model:                           1                                         \n",
       "Covariance Type:            nonrobust                                         \n",
       "===============================================================================\n",
       "                  coef    std err          t      P>|t|      [0.025      0.975]\n",
       "-------------------------------------------------------------------------------\n",
       "Intercept   -4.358e+04   4402.690     -9.899      0.000   -5.22e+04    -3.5e+04\n",
       "sqft_living   280.6236      1.936    144.920      0.000     276.828     284.419\n",
       "==============================================================================\n",
       "Omnibus:                    14832.490   Durbin-Watson:                   1.983\n",
       "Prob(Omnibus):                  0.000   Jarque-Bera (JB):           546444.713\n",
       "Skew:                           2.824   Prob(JB):                         0.00\n",
       "Kurtosis:                      26.977   Cond. No.                     5.63e+03\n",
       "==============================================================================\n",
       "\n",
       "Notes:\n",
       "[1] Standard Errors assume that the covariance matrix of the errors is correctly specified.\n",
       "[2] The condition number is large, 5.63e+03. This might indicate that there are\n",
       "strong multicollinearity or other numerical problems.\n",
       "\"\"\""
      ]
     },
     "execution_count": 177,
     "metadata": {},
     "output_type": "execute_result"
    }
   ],
   "source": [
    "lr.summary()"
   ]
  },
  {
   "cell_type": "code",
   "execution_count": 181,
   "id": "8d8bc6ea",
   "metadata": {},
   "outputs": [
    {
     "data": {
      "image/png": "[encoded data removed]",
      "text/plain": [
       "<Figure size 432x288 with 1 Axes>"
      ]
     },
     "metadata": {
      "needs_background": "light"
     },
     "output_type": "display_data"
    }
   ],
   "source": [
    "##### 3-4) 회귀모형의 시각화\n",
    "import matplotlib.pyplot as plt\n",
    "plt.scatter(X, y) # 원 데이터의 산포도\n",
    "plt.plot(X, y_pred, color = 'red') # 회귀직선 추가\n",
    "plt.xlabel('sqft_living', fontsize=10)\n",
    "plt.ylabel('price',fontsize=10)\n",
    "plt.title('Linear Regression Result')\n",
    "plt.show()\n"
   ]
  },
  {
   "cell_type": "markdown",
   "id": "35c19525",
   "metadata": {},
   "source": [
    "#### 3-5) 해석\n",
    "##### > 독립변수는 sqft_living이고 종속변수는 price이다\n",
    "##### > 회귀식의 유의성(F통계량)은 유의확률 보다 작으므로 귀무가설을 기각한다. 즉, 회귀식은 유의하다.\n",
    "##### > 적합도 검정은 (R^2, 결정계수)를 확인한다. 단순선형회귀분석이므로, 수정된 R^2과 동일하며 49.3%의 낮은 설명력을 지닌다.\n",
    "##### > 회귀계수의 유의성(T통계량)은 각 계수들의 유의확률이 0.05보다 작으므로 귀무가설을 기각한다. 즉, 모든 회귀계수는 유의하다.\n",
    "##### > 잔차의 독립성(Durbin-Watson)은 1.983으로 2에 가깝기 때문에 통계적으로 독립성을 가진다고 해석할 수 있다.\n",
    "##### > 추정된 회귀식은 y = - 43580.743094 + 280.623568 X 이다.\n",
    "##### > 단, 해당 데이터는 오차항의 정규성/ 분산성을 만족하지 못하므로, 설명력이 낮으며, 회귀모델에 적합하지 않다."
   ]
  },
  {
   "cell_type": "markdown",
   "id": "ffa35bc0",
   "metadata": {},
   "source": [
    "### [다중선형회귀분석_과정]\n",
    "#### 1. 데이터 확인\n",
    "##### 1-1) 결측치 및 데이터 타입 확인(필요시 더미변수화)\n",
    "##### 1-2) 독립변수와 종속변수의 선형성 만족 확인\n",
    "\n",
    "#### 2. 다중선형회귀모델 적합\n",
    "##### 2-1) 최소제곱법으로 회귀계수 추정\n",
    "\n",
    "#### 3. 해석\n",
    "##### 3-1) 다중선형회귀분석 가정 만족 확인 : 독립변수와 종속변수의 선형성, 오차항(잔차)의 정규성 / 등분산성\n",
    "##### 3-2) RMSE\n",
    "##### 3-3) lr.summary()\n",
    "##### 3-4) 회귀모델 시각화\n",
    "##### 3-5) 해석\n",
    "#####         > 독립변수, 종속변수\n",
    "#####         > 회귀식 유의성(F통계량)\n",
    "#####         > 적합성 검정(수정된 R^2)\n",
    "#####         >  회귀계수의 유의성(T통계량)\n",
    "#####         >  오차항의 독립성(더빈 왓슨)\n",
    "#####         > 추정된 회귀식\n",
    "#####         > + 회귀식에 적합한 데이터인가? 설명력이 낮다면 낮은 이유\n",
    "\n",
    "\n",
    "#### [더미변수화]\n",
    "##### > 회귀분석은 연속형 변수를 다루는 기법이므로 범주형 데이터의 경우 형태를 변환해주어야 회귀분석을 수행할 수 있다. \n",
    "##### >  더미변수란 0 or 1값만 가지며 어떤 특징에 해당 하는지의 여부를 표현하는 변수이다.  "
   ]
  },
  {
   "cell_type": "code",
   "execution_count": null,
   "id": "e3eb3f22",
   "metadata": {},
   "outputs": [],
   "source": [
    "#### [다중선형회귀분석_과정]\n",
    "#### 1. 데이터 확인\n",
    "##### 1-1) 결측치 및 데이터 타입 확인\n",
    "##### 1-2) 독립변수와 종속변수의 선형성 만족 확인\n",
    "\n",
    "#### 2. 단순회귀분석 모형 적합\n",
    "##### 2-1) 최소제곱법으로 회귀계수 추정\n",
    "\n",
    "#### 3. 해석\n",
    "##### 3-1) 단순회귀분석 가정 만족 확인 (독립변수와 종속변수 선형성, 오차항(잔차)의 정규성 / 등분산성)\n",
    "##### 3-2) RMSE\n",
    "##### 3-3) lr.summary()\n",
    "##### 3-4) 회귀모델 시각화\n",
    "##### 3-5) 해석\n",
    "#####      > 독립변수, 종속변수\n",
    "#####      > 회귀식의 유의성(F통계량)\n",
    "#####      > 적합성 검정(설명력 R^2)\n",
    "#####      > 회귀계수의 유의성(T통계량)\n",
    "#####      > 오차항의 독립성(더빈 왓슨)\n",
    "#####      > 추정된 회귀식 \n",
    "#####      > + 회귀식에 적합한 데이터인가? 설명력이 낮다면 낮은 이유"
   ]
  },
  {
   "cell_type": "code",
   "execution_count": null,
   "id": "ce9fa503",
   "metadata": {},
   "outputs": [],
   "source": []
  },
  {
   "cell_type": "code",
   "execution_count": null,
   "id": "4ae36c15",
   "metadata": {},
   "outputs": [],
   "source": []
  },
  {
   "cell_type": "code",
   "execution_count": null,
   "id": "68992c46",
   "metadata": {},
   "outputs": [],
   "source": []
  },
  {
   "cell_type": "code",
   "execution_count": null,
   "id": "9c9b4293",
   "metadata": {},
   "outputs": [],
   "source": []
  },
  {
   "cell_type": "code",
   "execution_count": null,
   "id": "ef67cff4",
   "metadata": {},
   "outputs": [],
   "source": []
  },
  {
   "cell_type": "code",
   "execution_count": null,
   "id": "dd04f66d",
   "metadata": {},
   "outputs": [],
   "source": []
  },
  {
   "cell_type": "code",
   "execution_count": null,
   "id": "83cf328d",
   "metadata": {},
   "outputs": [],
   "source": []
  },
  {
   "cell_type": "code",
   "execution_count": null,
   "id": "5a7dad50",
   "metadata": {},
   "outputs": [],
   "source": []
  },
  {
   "cell_type": "code",
   "execution_count": null,
   "id": "f05d34a8",
   "metadata": {},
   "outputs": [],
   "source": []
  },
  {
   "cell_type": "code",
   "execution_count": null,
   "id": "ff34065d",
   "metadata": {},
   "outputs": [],
   "source": []
  },
  {
   "cell_type": "code",
   "execution_count": null,
   "id": "5c8611cc",
   "metadata": {},
   "outputs": [],
   "source": []
  },
  {
   "cell_type": "code",
   "execution_count": null,
   "id": "3d3d0edf",
   "metadata": {},
   "outputs": [],
   "source": []
  },
  {
   "cell_type": "code",
   "execution_count": null,
   "id": "4a8cfc66",
   "metadata": {},
   "outputs": [],
   "source": []
  },
  {
   "cell_type": "code",
   "execution_count": null,
   "id": "e4ab43f5",
   "metadata": {},
   "outputs": [],
   "source": []
  },
  {
   "cell_type": "code",
   "execution_count": null,
   "id": "e175fe80",
   "metadata": {},
   "outputs": [],
   "source": []
  },
  {
   "cell_type": "code",
   "execution_count": null,
   "id": "259459a5",
   "metadata": {},
   "outputs": [],
   "source": []
  },
  {
   "cell_type": "code",
   "execution_count": null,
   "id": "b1139e3e",
   "metadata": {},
   "outputs": [],
   "source": []
  },
  {
   "cell_type": "code",
   "execution_count": null,
   "id": "c86c824d",
   "metadata": {},
   "outputs": [],
   "source": []
  },
  {
   "cell_type": "code",
   "execution_count": null,
   "id": "5a10d28d",
   "metadata": {},
   "outputs": [],
   "source": []
  },
  {
   "cell_type": "code",
   "execution_count": null,
   "id": "f097db26",
   "metadata": {},
   "outputs": [],
   "source": []
  },
  {
   "cell_type": "code",
   "execution_count": null,
   "id": "19ad2942",
   "metadata": {},
   "outputs": [],
   "source": []
  },
  {
   "cell_type": "code",
   "execution_count": null,
   "id": "bda48dda",
   "metadata": {},
   "outputs": [],
   "source": []
  },
  {
   "cell_type": "code",
   "execution_count": null,
   "id": "a5236395",
   "metadata": {},
   "outputs": [],
   "source": []
  },
  {
   "cell_type": "code",
   "execution_count": null,
   "id": "b3133bb7",
   "metadata": {},
   "outputs": [],
   "source": []
  },
  {
   "cell_type": "code",
   "execution_count": null,
   "id": "d0c16df0",
   "metadata": {},
   "outputs": [],
   "source": []
  },
  {
   "cell_type": "code",
   "execution_count": null,
   "id": "9313068f",
   "metadata": {},
   "outputs": [],
   "source": []
  },
  {
   "cell_type": "code",
   "execution_count": null,
   "id": "9138b61a",
   "metadata": {},
   "outputs": [],
   "source": []
  },
  {
   "cell_type": "markdown",
   "id": "3089a2fb",
   "metadata": {},
   "source": [
    "# 회귀분석 과제 \n",
    "\n",
    "## kc_house_data.csv데이터에서 id, date를 삭제하세요. \n",
    "## 종속변수: price, 데이터 내 수치형 변수를 독립변수로 설정하세요 \n",
    "## 수치형 변수이더라도 범주형 변수인 값을 구분하고 더미변수화 시키세요 (데이터는 수치형이나, 데이터가 category라면 범주형변수입니다. ex) grade) \n",
    "\n",
    "## 다중선형회귀분석을 진행해보세요 \n",
    "## summa"
   ]
  },
  {
   "cell_type": "code",
   "execution_count": 1,
   "id": "9c992919",
   "metadata": {},
   "outputs": [
    {
     "data": {
      "text/html": [
       "<div>\n",
       "<style scoped>\n",
       "    .dataframe tbody tr th:only-of-type {\n",
       "        vertical-align: middle;\n",
       "    }\n",
       "\n",
       "    .dataframe tbody tr th {\n",
       "        vertical-align: top;\n",
       "    }\n",
       "\n",
       "    .dataframe thead th {\n",
       "        text-align: right;\n",
       "    }\n",
       "</style>\n",
       "<table border=\"1\" class=\"dataframe\">\n",
       "  <thead>\n",
       "    <tr style=\"text-align: right;\">\n",
       "      <th></th>\n",
       "      <th>id</th>\n",
       "      <th>date</th>\n",
       "      <th>price</th>\n",
       "      <th>bedrooms</th>\n",
       "      <th>bathrooms</th>\n",
       "      <th>sqft_living</th>\n",
       "      <th>sqft_lot</th>\n",
       "      <th>floors</th>\n",
       "      <th>waterfront</th>\n",
       "      <th>view</th>\n",
       "      <th>condition</th>\n",
       "      <th>grade</th>\n",
       "      <th>sqft_above</th>\n",
       "      <th>sqft_basement</th>\n",
       "      <th>yr_built</th>\n",
       "      <th>yr_renovated</th>\n",
       "      <th>sqft_living15</th>\n",
       "      <th>sqft_lot15</th>\n",
       "    </tr>\n",
       "  </thead>\n",
       "  <tbody>\n",
       "    <tr>\n",
       "      <th>0</th>\n",
       "      <td>7129300520</td>\n",
       "      <td>20141013T000000</td>\n",
       "      <td>221900.0</td>\n",
       "      <td>3</td>\n",
       "      <td>1.00</td>\n",
       "      <td>1180</td>\n",
       "      <td>5650</td>\n",
       "      <td>1.0</td>\n",
       "      <td>standard</td>\n",
       "      <td>0</td>\n",
       "      <td>3</td>\n",
       "      <td>7</td>\n",
       "      <td>1180</td>\n",
       "      <td>0</td>\n",
       "      <td>1955</td>\n",
       "      <td>0</td>\n",
       "      <td>1340</td>\n",
       "      <td>5650</td>\n",
       "    </tr>\n",
       "    <tr>\n",
       "      <th>1</th>\n",
       "      <td>6414100192</td>\n",
       "      <td>20141209T000000</td>\n",
       "      <td>538000.0</td>\n",
       "      <td>3</td>\n",
       "      <td>2.25</td>\n",
       "      <td>2570</td>\n",
       "      <td>7242</td>\n",
       "      <td>2.0</td>\n",
       "      <td>standard</td>\n",
       "      <td>0</td>\n",
       "      <td>3</td>\n",
       "      <td>7</td>\n",
       "      <td>2170</td>\n",
       "      <td>400</td>\n",
       "      <td>1951</td>\n",
       "      <td>1991</td>\n",
       "      <td>1690</td>\n",
       "      <td>7639</td>\n",
       "    </tr>\n",
       "    <tr>\n",
       "      <th>2</th>\n",
       "      <td>5631500400</td>\n",
       "      <td>20150225T000000</td>\n",
       "      <td>180000.0</td>\n",
       "      <td>2</td>\n",
       "      <td>1.00</td>\n",
       "      <td>770</td>\n",
       "      <td>10000</td>\n",
       "      <td>1.0</td>\n",
       "      <td>standard</td>\n",
       "      <td>0</td>\n",
       "      <td>3</td>\n",
       "      <td>6</td>\n",
       "      <td>770</td>\n",
       "      <td>0</td>\n",
       "      <td>1933</td>\n",
       "      <td>0</td>\n",
       "      <td>2720</td>\n",
       "      <td>8062</td>\n",
       "    </tr>\n",
       "    <tr>\n",
       "      <th>3</th>\n",
       "      <td>2487200875</td>\n",
       "      <td>20141209T000000</td>\n",
       "      <td>604000.0</td>\n",
       "      <td>4</td>\n",
       "      <td>3.00</td>\n",
       "      <td>1960</td>\n",
       "      <td>5000</td>\n",
       "      <td>1.0</td>\n",
       "      <td>standard</td>\n",
       "      <td>0</td>\n",
       "      <td>5</td>\n",
       "      <td>7</td>\n",
       "      <td>1050</td>\n",
       "      <td>910</td>\n",
       "      <td>1965</td>\n",
       "      <td>0</td>\n",
       "      <td>1360</td>\n",
       "      <td>5000</td>\n",
       "    </tr>\n",
       "    <tr>\n",
       "      <th>4</th>\n",
       "      <td>1954400510</td>\n",
       "      <td>20150218T000000</td>\n",
       "      <td>510000.0</td>\n",
       "      <td>3</td>\n",
       "      <td>2.00</td>\n",
       "      <td>1680</td>\n",
       "      <td>8080</td>\n",
       "      <td>1.0</td>\n",
       "      <td>standard</td>\n",
       "      <td>0</td>\n",
       "      <td>3</td>\n",
       "      <td>8</td>\n",
       "      <td>1680</td>\n",
       "      <td>0</td>\n",
       "      <td>1987</td>\n",
       "      <td>0</td>\n",
       "      <td>1800</td>\n",
       "      <td>7503</td>\n",
       "    </tr>\n",
       "    <tr>\n",
       "      <th>...</th>\n",
       "      <td>...</td>\n",
       "      <td>...</td>\n",
       "      <td>...</td>\n",
       "      <td>...</td>\n",
       "      <td>...</td>\n",
       "      <td>...</td>\n",
       "      <td>...</td>\n",
       "      <td>...</td>\n",
       "      <td>...</td>\n",
       "      <td>...</td>\n",
       "      <td>...</td>\n",
       "      <td>...</td>\n",
       "      <td>...</td>\n",
       "      <td>...</td>\n",
       "      <td>...</td>\n",
       "      <td>...</td>\n",
       "      <td>...</td>\n",
       "      <td>...</td>\n",
       "    </tr>\n",
       "    <tr>\n",
       "      <th>21608</th>\n",
       "      <td>263000018</td>\n",
       "      <td>20140521T000000</td>\n",
       "      <td>360000.0</td>\n",
       "      <td>3</td>\n",
       "      <td>2.50</td>\n",
       "      <td>1530</td>\n",
       "      <td>1131</td>\n",
       "      <td>3.0</td>\n",
       "      <td>standard</td>\n",
       "      <td>0</td>\n",
       "      <td>3</td>\n",
       "      <td>8</td>\n",
       "      <td>1530</td>\n",
       "      <td>0</td>\n",
       "      <td>2009</td>\n",
       "      <td>0</td>\n",
       "      <td>1530</td>\n",
       "      <td>1509</td>\n",
       "    </tr>\n",
       "    <tr>\n",
       "      <th>21609</th>\n",
       "      <td>6600060120</td>\n",
       "      <td>20150223T000000</td>\n",
       "      <td>400000.0</td>\n",
       "      <td>4</td>\n",
       "      <td>2.50</td>\n",
       "      <td>2310</td>\n",
       "      <td>5813</td>\n",
       "      <td>2.0</td>\n",
       "      <td>standard</td>\n",
       "      <td>0</td>\n",
       "      <td>3</td>\n",
       "      <td>8</td>\n",
       "      <td>2310</td>\n",
       "      <td>0</td>\n",
       "      <td>2014</td>\n",
       "      <td>0</td>\n",
       "      <td>1830</td>\n",
       "      <td>7200</td>\n",
       "    </tr>\n",
       "    <tr>\n",
       "      <th>21610</th>\n",
       "      <td>1523300141</td>\n",
       "      <td>20140623T000000</td>\n",
       "      <td>402101.0</td>\n",
       "      <td>2</td>\n",
       "      <td>0.75</td>\n",
       "      <td>1020</td>\n",
       "      <td>1350</td>\n",
       "      <td>2.0</td>\n",
       "      <td>standard</td>\n",
       "      <td>0</td>\n",
       "      <td>3</td>\n",
       "      <td>7</td>\n",
       "      <td>1020</td>\n",
       "      <td>0</td>\n",
       "      <td>2009</td>\n",
       "      <td>0</td>\n",
       "      <td>1020</td>\n",
       "      <td>2007</td>\n",
       "    </tr>\n",
       "    <tr>\n",
       "      <th>21611</th>\n",
       "      <td>291310100</td>\n",
       "      <td>20150116T000000</td>\n",
       "      <td>400000.0</td>\n",
       "      <td>3</td>\n",
       "      <td>2.50</td>\n",
       "      <td>1600</td>\n",
       "      <td>2388</td>\n",
       "      <td>2.0</td>\n",
       "      <td>standard</td>\n",
       "      <td>0</td>\n",
       "      <td>3</td>\n",
       "      <td>8</td>\n",
       "      <td>1600</td>\n",
       "      <td>0</td>\n",
       "      <td>2004</td>\n",
       "      <td>0</td>\n",
       "      <td>1410</td>\n",
       "      <td>1287</td>\n",
       "    </tr>\n",
       "    <tr>\n",
       "      <th>21612</th>\n",
       "      <td>1523300157</td>\n",
       "      <td>20141015T000000</td>\n",
       "      <td>325000.0</td>\n",
       "      <td>2</td>\n",
       "      <td>0.75</td>\n",
       "      <td>1020</td>\n",
       "      <td>1076</td>\n",
       "      <td>2.0</td>\n",
       "      <td>standard</td>\n",
       "      <td>0</td>\n",
       "      <td>3</td>\n",
       "      <td>7</td>\n",
       "      <td>1020</td>\n",
       "      <td>0</td>\n",
       "      <td>2008</td>\n",
       "      <td>0</td>\n",
       "      <td>1020</td>\n",
       "      <td>1357</td>\n",
       "    </tr>\n",
       "  </tbody>\n",
       "</table>\n",
       "<p>21613 rows × 18 columns</p>\n",
       "</div>"
      ],
      "text/plain": [
       "               id             date     price  bedrooms  bathrooms  \\\n",
       "0      7129300520  20141013T000000  221900.0         3       1.00   \n",
       "1      6414100192  20141209T000000  538000.0         3       2.25   \n",
       "2      5631500400  20150225T000000  180000.0         2       1.00   \n",
       "3      2487200875  20141209T000000  604000.0         4       3.00   \n",
       "4      1954400510  20150218T000000  510000.0         3       2.00   \n",
       "...           ...              ...       ...       ...        ...   \n",
       "21608   263000018  20140521T000000  360000.0         3       2.50   \n",
       "21609  6600060120  20150223T000000  400000.0         4       2.50   \n",
       "21610  1523300141  20140623T000000  402101.0         2       0.75   \n",
       "21611   291310100  20150116T000000  400000.0         3       2.50   \n",
       "21612  1523300157  20141015T000000  325000.0         2       0.75   \n",
       "\n",
       "       sqft_living  sqft_lot  floors waterfront  view  condition  grade  \\\n",
       "0             1180      5650     1.0   standard     0          3      7   \n",
       "1             2570      7242     2.0   standard     0          3      7   \n",
       "2              770     10000     1.0   standard     0          3      6   \n",
       "3             1960      5000     1.0   standard     0          5      7   \n",
       "4             1680      8080     1.0   standard     0          3      8   \n",
       "...            ...       ...     ...        ...   ...        ...    ...   \n",
       "21608         1530      1131     3.0   standard     0          3      8   \n",
       "21609         2310      5813     2.0   standard     0          3      8   \n",
       "21610         1020      1350     2.0   standard     0          3      7   \n",
       "21611         1600      2388     2.0   standard     0          3      8   \n",
       "21612         1020      1076     2.0   standard     0          3      7   \n",
       "\n",
       "       sqft_above  sqft_basement  yr_built  yr_renovated  sqft_living15  \\\n",
       "0            1180              0      1955             0           1340   \n",
       "1            2170            400      1951          1991           1690   \n",
       "2             770              0      1933             0           2720   \n",
       "3            1050            910      1965             0           1360   \n",
       "4            1680              0      1987             0           1800   \n",
       "...           ...            ...       ...           ...            ...   \n",
       "21608        1530              0      2009             0           1530   \n",
       "21609        2310              0      2014             0           1830   \n",
       "21610        1020              0      2009             0           1020   \n",
       "21611        1600              0      2004             0           1410   \n",
       "21612        1020              0      2008             0           1020   \n",
       "\n",
       "       sqft_lot15  \n",
       "0            5650  \n",
       "1            7639  \n",
       "2            8062  \n",
       "3            5000  \n",
       "4            7503  \n",
       "...           ...  \n",
       "21608        1509  \n",
       "21609        7200  \n",
       "21610        2007  \n",
       "21611        1287  \n",
       "21612        1357  \n",
       "\n",
       "[21613 rows x 18 columns]"
      ]
     },
     "execution_count": 1,
     "metadata": {},
     "output_type": "execute_result"
    }
   ],
   "source": [
    "import pandas as pd \n",
    "data = pd.read_csv('data/kc_house_data.csv')\n",
    "data"
   ]
  },
  {
   "cell_type": "markdown",
   "id": "cf565d13",
   "metadata": {},
   "source": [
    "### 다중선형회귀분석\n",
    "#### 1. 과정\n",
    "#### 2. 더미변수화\n",
    "##### > 회귀분석은 연속형 변수를 다루는 기법이므로 범주형 데이터의 경우 형태를 변환해주어야 회귀분석을 수행할 수 있다. \n",
    "##### >  더미변수란 0 or 1값만 가지며 어떤 특징에 해당 하는지의 여부를 표현하는 변수이다.  "
   ]
  },
  {
   "cell_type": "code",
   "execution_count": null,
   "id": "48e782f6",
   "metadata": {},
   "outputs": [],
   "source": []
  }
 ],
 "metadata": {
  "kernelspec": {
   "display_name": "Python 3 (ipykernel)",
   "language": "python",
   "name": "python3"
  },
  "language_info": {
   "codemirror_mode": {
    "name": "ipython",
    "version": 3
   },
   "file_extension": ".py",
   "mimetype": "text/x-python",
   "name": "python",
   "nbconvert_exporter": "python",
   "pygments_lexer": "ipython3",
   "version": "3.9.12"
  },
  "toc": {
   "base_numbering": 1,
   "nav_menu": {},
   "number_sections": true,
   "sideBar": true,
   "skip_h1_title": false,
   "title_cell": "Table of Contents",
   "title_sidebar": "Contents",
   "toc_cell": true,
   "toc_position": {},
   "toc_section_display": true,
   "toc_window_display": true
  }
 },
 "nbformat": 4,
 "nbformat_minor": 5
}
