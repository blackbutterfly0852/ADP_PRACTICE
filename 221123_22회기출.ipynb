{
 "cells": [
  {
   "cell_type": "markdown",
   "id": "9bdd3888",
   "metadata": {},
   "source": [
    "## 머신러닝\n",
    "### 1. 데이터 탐색\n",
    "### 1-1) 시각화 포함 탐색적 자료분석을 시행하시오(EDA)\n",
    "#### 1-1-1) 데이터 타입 설명\n",
    "#### 1-1-2) 종속변수 분포 설명\n",
    "#### 1-1-3) 독립변수 간 상관관계\n",
    "#### 1-1-4) 독립변수와 종속변수의 상관관계 설명\n",
    "#### 1-1-5) 범주형 변수 설명\n",
    "#### 1-1-6) 이상치 변수 설명\n",
    "#### 1-1-7) 결측치 변수 설명\n",
    "### 1-2) 이상치를 식별하고 처리하시오\n",
    "### 1-3) 앞선 두 단계에서 발견한 점을 바탕으로 향후 분석시에 고려해야 할 사항을 작성하시오\n",
    "\n",
    "### 2. 클래스 불균형 처리\n",
    "### 2-1) 업 샘플링 과정을 설명하고 결과를 작성하시오.\n",
    "### 2-2) 언더 샘플링 과정을 설명하고 결과를 작성하시오.\n",
    "### 2-3) 둘 중 하나를 선택하고 선택한 이유를 서술하시오.\n",
    "\n",
    "### 3. 모델링\n",
    "### 3-1) 최소 3개 이상의 알고리즘을 제시하고 정확도 측면의 모델 1개와 속도 측면의 모델 1개를 선정하시오.\n",
    "### 3-2) 모델을 비교하고 결과를 설명하시오.\n",
    "### 3-3) 속도 개선을 위한 차원축소 방법을 설명하고 수행하시오. 그리고 예측 성능과 속도를 비교하고 결과를 작성하시오\n",
    "\n",
    "\n",
    "## 통계분석\n",
    "### 1. 회사 제품의 금속 재질 함유량의 분산이 1.3을 넘으면 불량이라고 판단한다. 회사에서는 품질 경영팀으로 부터 제조사별로 금속 함유량이 차이가 난다고 제보를 받았다. 해당 금속 함유량 데이터에 대한 검정을 수행하시오 (유의확률 : 0.05)\n",
    "### 1-1) 귀무가설, 대립가설 작성하시오.\n",
    "### 1-2) 가설을 양측 검정 하시오.\n",
    "\n",
    "### 2. 제품 200개의 Lot별 불량 제품 수량 데이터에 대해 p관리도를 구하고 시각화 하시오\n",
    "### 2-1) p관리도에 따라 관리중심선(Center Line), 관리 상한선, 하안선을 구하시오.\n",
    "### 2-2) 관리도를 시각화 하시오\n",
    "\n",
    "### 3. 제품 1,2를 만드는데 재로 a,b,c가 일부 사용되며, 제품 1과 2를 만들 때 12만원과 18만원을 벌 수 있다.\n",
    "### 재료를 한정적으로 주어지는데, 이때 최대 수익을 낼 수 있을 때의 제품 1과 제품 2의 개수를 구하라.\n",
    "\n",
    "### 제품 공급량 { a : 1300, b : 1000, c : 1200}\n",
    "### 구분 재료a 재료b 재료c\n",
    "### 제품1 20    20    20\n",
    "### 제품2 40    30    30\n",
    "\n",
    "### 4. 상품 a와 b가 있을 때 다음과 같은 구매 패턴이 있다고 한다.\n",
    "### ['a','a','b','b','a','a','a','a','b','b','b','b','b','a','a','b','b','a','b','b']\n",
    "### 4-1) 구매 패턴으로 볼 때 두 상품이 연관이 있는지 가설을 세우고 검정하시오\n",
    "### 4-2) 가설을 채택하시오."
   ]
  },
  {
   "cell_type": "markdown",
   "id": "b8d7a6d5",
   "metadata": {},
   "source": [
    "## 1-1) 시각화 포함 탐색적 자료분석을 시행하시오(EDA)"
   ]
  },
  {
   "cell_type": "code",
   "execution_count": 45,
   "id": "741b2ada",
   "metadata": {},
   "outputs": [
    {
     "data": {
      "text/html": [
       "<div>\n",
       "<style scoped>\n",
       "    .dataframe tbody tr th:only-of-type {\n",
       "        vertical-align: middle;\n",
       "    }\n",
       "\n",
       "    .dataframe tbody tr th {\n",
       "        vertical-align: top;\n",
       "    }\n",
       "\n",
       "    .dataframe thead th {\n",
       "        text-align: right;\n",
       "    }\n",
       "</style>\n",
       "<table border=\"1\" class=\"dataframe\">\n",
       "  <thead>\n",
       "    <tr style=\"text-align: right;\">\n",
       "      <th></th>\n",
       "      <th>Pregnancies</th>\n",
       "      <th>Glucose</th>\n",
       "      <th>BloodPressure</th>\n",
       "      <th>SkinThickness</th>\n",
       "      <th>Insulin</th>\n",
       "      <th>BMI</th>\n",
       "      <th>DiabetesPedigreeFunction</th>\n",
       "      <th>Age</th>\n",
       "      <th>Outcome</th>\n",
       "    </tr>\n",
       "  </thead>\n",
       "  <tbody>\n",
       "    <tr>\n",
       "      <th>0</th>\n",
       "      <td>6</td>\n",
       "      <td>148</td>\n",
       "      <td>72</td>\n",
       "      <td>35</td>\n",
       "      <td>0</td>\n",
       "      <td>33.6</td>\n",
       "      <td>0.627</td>\n",
       "      <td>50</td>\n",
       "      <td>1</td>\n",
       "    </tr>\n",
       "    <tr>\n",
       "      <th>1</th>\n",
       "      <td>1</td>\n",
       "      <td>85</td>\n",
       "      <td>66</td>\n",
       "      <td>29</td>\n",
       "      <td>0</td>\n",
       "      <td>26.6</td>\n",
       "      <td>0.351</td>\n",
       "      <td>31</td>\n",
       "      <td>0</td>\n",
       "    </tr>\n",
       "    <tr>\n",
       "      <th>2</th>\n",
       "      <td>8</td>\n",
       "      <td>183</td>\n",
       "      <td>64</td>\n",
       "      <td>0</td>\n",
       "      <td>0</td>\n",
       "      <td>23.3</td>\n",
       "      <td>0.672</td>\n",
       "      <td>32</td>\n",
       "      <td>1</td>\n",
       "    </tr>\n",
       "    <tr>\n",
       "      <th>3</th>\n",
       "      <td>1</td>\n",
       "      <td>89</td>\n",
       "      <td>66</td>\n",
       "      <td>23</td>\n",
       "      <td>94</td>\n",
       "      <td>28.1</td>\n",
       "      <td>0.167</td>\n",
       "      <td>21</td>\n",
       "      <td>0</td>\n",
       "    </tr>\n",
       "    <tr>\n",
       "      <th>4</th>\n",
       "      <td>0</td>\n",
       "      <td>137</td>\n",
       "      <td>40</td>\n",
       "      <td>35</td>\n",
       "      <td>168</td>\n",
       "      <td>43.1</td>\n",
       "      <td>2.288</td>\n",
       "      <td>33</td>\n",
       "      <td>1</td>\n",
       "    </tr>\n",
       "    <tr>\n",
       "      <th>...</th>\n",
       "      <td>...</td>\n",
       "      <td>...</td>\n",
       "      <td>...</td>\n",
       "      <td>...</td>\n",
       "      <td>...</td>\n",
       "      <td>...</td>\n",
       "      <td>...</td>\n",
       "      <td>...</td>\n",
       "      <td>...</td>\n",
       "    </tr>\n",
       "    <tr>\n",
       "      <th>763</th>\n",
       "      <td>10</td>\n",
       "      <td>101</td>\n",
       "      <td>76</td>\n",
       "      <td>48</td>\n",
       "      <td>180</td>\n",
       "      <td>32.9</td>\n",
       "      <td>0.171</td>\n",
       "      <td>63</td>\n",
       "      <td>0</td>\n",
       "    </tr>\n",
       "    <tr>\n",
       "      <th>764</th>\n",
       "      <td>2</td>\n",
       "      <td>122</td>\n",
       "      <td>70</td>\n",
       "      <td>27</td>\n",
       "      <td>0</td>\n",
       "      <td>36.8</td>\n",
       "      <td>0.340</td>\n",
       "      <td>27</td>\n",
       "      <td>0</td>\n",
       "    </tr>\n",
       "    <tr>\n",
       "      <th>765</th>\n",
       "      <td>5</td>\n",
       "      <td>121</td>\n",
       "      <td>72</td>\n",
       "      <td>23</td>\n",
       "      <td>112</td>\n",
       "      <td>26.2</td>\n",
       "      <td>0.245</td>\n",
       "      <td>30</td>\n",
       "      <td>0</td>\n",
       "    </tr>\n",
       "    <tr>\n",
       "      <th>766</th>\n",
       "      <td>1</td>\n",
       "      <td>126</td>\n",
       "      <td>60</td>\n",
       "      <td>0</td>\n",
       "      <td>0</td>\n",
       "      <td>30.1</td>\n",
       "      <td>0.349</td>\n",
       "      <td>47</td>\n",
       "      <td>1</td>\n",
       "    </tr>\n",
       "    <tr>\n",
       "      <th>767</th>\n",
       "      <td>1</td>\n",
       "      <td>93</td>\n",
       "      <td>70</td>\n",
       "      <td>31</td>\n",
       "      <td>0</td>\n",
       "      <td>30.4</td>\n",
       "      <td>0.315</td>\n",
       "      <td>23</td>\n",
       "      <td>0</td>\n",
       "    </tr>\n",
       "  </tbody>\n",
       "</table>\n",
       "<p>768 rows × 9 columns</p>\n",
       "</div>"
      ],
      "text/plain": [
       "     Pregnancies  Glucose  BloodPressure  SkinThickness  Insulin   BMI  \\\n",
       "0              6      148             72             35        0  33.6   \n",
       "1              1       85             66             29        0  26.6   \n",
       "2              8      183             64              0        0  23.3   \n",
       "3              1       89             66             23       94  28.1   \n",
       "4              0      137             40             35      168  43.1   \n",
       "..           ...      ...            ...            ...      ...   ...   \n",
       "763           10      101             76             48      180  32.9   \n",
       "764            2      122             70             27        0  36.8   \n",
       "765            5      121             72             23      112  26.2   \n",
       "766            1      126             60              0        0  30.1   \n",
       "767            1       93             70             31        0  30.4   \n",
       "\n",
       "     DiabetesPedigreeFunction  Age  Outcome  \n",
       "0                       0.627   50        1  \n",
       "1                       0.351   31        0  \n",
       "2                       0.672   32        1  \n",
       "3                       0.167   21        0  \n",
       "4                       2.288   33        1  \n",
       "..                        ...  ...      ...  \n",
       "763                     0.171   63        0  \n",
       "764                     0.340   27        0  \n",
       "765                     0.245   30        0  \n",
       "766                     0.349   47        1  \n",
       "767                     0.315   23        0  \n",
       "\n",
       "[768 rows x 9 columns]"
      ]
     },
     "execution_count": 45,
     "metadata": {},
     "output_type": "execute_result"
    }
   ],
   "source": [
    "import pandas as pd\n",
    "df = pd.read_csv('data/diabetes.csv')\n",
    "df"
   ]
  },
  {
   "cell_type": "code",
   "execution_count": 94,
   "id": "c4496cd6",
   "metadata": {},
   "outputs": [
    {
     "name": "stdout",
     "output_type": "stream",
     "text": [
      "<class 'pandas.core.frame.DataFrame'>\n",
      "RangeIndex: 768 entries, 0 to 767\n",
      "Data columns (total 9 columns):\n",
      " #   Column                    Non-Null Count  Dtype  \n",
      "---  ------                    --------------  -----  \n",
      " 0   Pregnancies               768 non-null    int64  \n",
      " 1   Glucose                   768 non-null    float64\n",
      " 2   BloodPressure             768 non-null    float64\n",
      " 3   SkinThickness             768 non-null    float64\n",
      " 4   Insulin                   768 non-null    int64  \n",
      " 5   BMI                       768 non-null    float64\n",
      " 6   DiabetesPedigreeFunction  768 non-null    float64\n",
      " 7   Age                       768 non-null    int64  \n",
      " 8   Outcome                   768 non-null    int64  \n",
      "dtypes: float64(5), int64(4)\n",
      "memory usage: 54.1 KB\n"
     ]
    }
   ],
   "source": [
    "df.info()"
   ]
  },
  {
   "cell_type": "markdown",
   "id": "0654838c",
   "metadata": {},
   "source": [
    "#### 1-1-1) 데이터 타입 설명\n",
    "##### 종속변수 'Outcome'은 int64이지만 이산형 변수이다. 0이면 당뇨병이 아니며, 1이면 당뇨병으로 인지한다.\n",
    "##### 독립변수 'Pregnancies', 'Glucose', 'BloodPressure', 'SkinThickness', 'Age'는 int64이고 'BMI', 'DiabetesPedigreeFunction'는 float64이다."
   ]
  },
  {
   "cell_type": "code",
   "execution_count": 8,
   "id": "a9f39926",
   "metadata": {},
   "outputs": [
    {
     "data": {
      "text/plain": [
       "<BarContainer object of 2 artists>"
      ]
     },
     "execution_count": 8,
     "metadata": {},
     "output_type": "execute_result"
    },
    {
     "data": {
      "image/png": "[encoded data removed]",
      "text/plain": [
       "<Figure size 432x288 with 1 Axes>"
      ]
     },
     "metadata": {
      "needs_background": "light"
     },
     "output_type": "display_data"
    }
   ],
   "source": [
    "import matplotlib.pyplot as plt\n",
    "plt.bar(['Negative Diabetes','Positive Diabetes'], df['Outcome'].value_counts().values)"
   ]
  },
  {
   "cell_type": "markdown",
   "id": "2209cc17",
   "metadata": {},
   "source": [
    "#### 1-1-2) 종속변수 분포 설명\n",
    "#### plt.bar 함수로 히스토그램을 그린 결과 당뇨병이 아닌경우(Negative Diabetes)가 당뇨병인 경우보다 (Positive Diabetes)보다 빈도수가 많다.\n",
    "#### 클래스 불균형을 인지할 필요성이 있다."
   ]
  },
  {
   "cell_type": "code",
   "execution_count": 31,
   "id": "3996d266",
   "metadata": {},
   "outputs": [
    {
     "data": {
      "text/plain": [
       "<AxesSubplot:>"
      ]
     },
     "execution_count": 31,
     "metadata": {},
     "output_type": "execute_result"
    },
    {
     "data": {
      "image/png": "[encoded data removed]",
      "text/plain": [
       "<Figure size 432x288 with 2 Axes>"
      ]
     },
     "metadata": {
      "needs_background": "light"
     },
     "output_type": "display_data"
    }
   ],
   "source": [
    "df_corr = df.corr(method = 'pearson')\n",
    "import seaborn as sns\n",
    "sns.heatmap(df_corr, xticklabels = df_corr.columns, yticklabels = df_corr.columns, cmap = 'RdBu_r'\n",
    "            , annot = True, linewidth = 3)"
   ]
  },
  {
   "cell_type": "markdown",
   "id": "73da1ffd",
   "metadata": {},
   "source": [
    "#### 1-1-3) 독립변수 간 상관관계\n",
    "#### 독립변수끼리 상관관계를 확인하였을 때 다중공선성을 걱정할만한 강한 상관관계(절대값 0.9 이상)를 가진 변수가 없다고 볼 수 있다.\n",
    "#### 1-1-4) 독립변수와 종속변수 간 상관관계\n",
    "#### 독립변수와 종속변수간의 상관관계가 큰 독립변수는 보이지 않으므로, 파생변수를 추가할 필요성이 있다."
   ]
  },
  {
   "cell_type": "code",
   "execution_count": 61,
   "id": "a9e7ca28",
   "metadata": {
    "scrolled": true
   },
   "outputs": [
    {
     "data": {
      "text/plain": [
       "<BarContainer object of 17 artists>"
      ]
     },
     "execution_count": 61,
     "metadata": {},
     "output_type": "execute_result"
    },
    {
     "data": {
      "image/png": "[encoded data removed]",
      "text/plain": [
       "<Figure size 432x288 with 1 Axes>"
      ]
     },
     "metadata": {
      "needs_background": "light"
     },
     "output_type": "display_data"
    }
   ],
   "source": [
    "df_pregnancies = df['Pregnancies'].value_counts().sort_index()\n",
    "plt.bar(df_pregnancies.index, df_pregnancies.values)"
   ]
  },
  {
   "cell_type": "markdown",
   "id": "38183766",
   "metadata": {},
   "source": [
    "#### 1-1-5) 범주형 변수 설명\n",
    "#### Pregnancies 변수는 임신횟수이며, 상식적으로 임신횟수는 제한이 있다고 판단하여, 범주형 변수라고 판단하였다.\n",
    "#### Pregnancies 변수의 분포를 살펴보면, 왼쪽으로 치우쳐진 데이터이며, 이는 정규성을 띄지 않는다고 판단할 수 있다."
   ]
  },
  {
   "cell_type": "code",
   "execution_count": 78,
   "id": "05ef89ca",
   "metadata": {},
   "outputs": [
    {
     "data": {
      "text/plain": [
       "<AxesSubplot:>"
      ]
     },
     "execution_count": 78,
     "metadata": {},
     "output_type": "execute_result"
    },
    {
     "data": {
      "image/png": "[encoded data removed]",
      "text/plain": [
       "<Figure size 1080x504 with 1 Axes>"
      ]
     },
     "metadata": {
      "needs_background": "light"
     },
     "output_type": "display_data"
    }
   ],
   "source": [
    "plt.figure(figsize = (15,7))\n",
    "sns.boxplot(data = df)"
   ]
  },
  {
   "cell_type": "markdown",
   "id": "c25c1804",
   "metadata": {},
   "source": [
    "#### 1-1-6) 이상치 변수 설명\n",
    "#### boxplot으로 전체 변수에 대한 이상치를 탐색한 결과, Outcome, DiabetesPedigreeFunction 제외한 모든 변수에 이상치가 있음을 확인할 수 있다."
   ]
  },
  {
   "cell_type": "code",
   "execution_count": 80,
   "id": "787c89e8",
   "metadata": {},
   "outputs": [
    {
     "data": {
      "text/plain": [
       "Pregnancies                 0\n",
       "Glucose                     0\n",
       "BloodPressure               0\n",
       "SkinThickness               0\n",
       "Insulin                     0\n",
       "BMI                         0\n",
       "DiabetesPedigreeFunction    0\n",
       "Age                         0\n",
       "Outcome                     0\n",
       "dtype: int64"
      ]
     },
     "execution_count": 80,
     "metadata": {},
     "output_type": "execute_result"
    }
   ],
   "source": [
    "df.isnull().sum()"
   ]
  },
  {
   "cell_type": "markdown",
   "id": "fca9390f",
   "metadata": {},
   "source": [
    "#### 1-1-7) 결측치 변수 설명\n",
    "#### isnull().sum() 함수를 통해 모든 변수에 결측치가 없음을 확인할 수 있다."
   ]
  },
  {
   "cell_type": "markdown",
   "id": "2b93b32c",
   "metadata": {},
   "source": [
    "## 1-2) 이상치를 식별하고 처리하시오"
   ]
  },
  {
   "cell_type": "code",
   "execution_count": 82,
   "id": "e6fe43bd",
   "metadata": {},
   "outputs": [
    {
     "data": {
      "text/plain": [
       "<AxesSubplot:>"
      ]
     },
     "execution_count": 82,
     "metadata": {},
     "output_type": "execute_result"
    },
    {
     "data": {
      "image/png": "[encoded data removed]",
      "text/plain": [
       "<Figure size 1080x504 with 1 Axes>"
      ]
     },
     "metadata": {
      "needs_background": "light"
     },
     "output_type": "display_data"
    }
   ],
   "source": [
    "plt.figure(figsize = (15,7))\n",
    "sns.boxplot(data = df)"
   ]
  },
  {
   "cell_type": "code",
   "execution_count": 86,
   "id": "095176ab",
   "metadata": {
    "scrolled": true
   },
   "outputs": [
    {
     "data": {
      "text/html": [
       "<div>\n",
       "<style scoped>\n",
       "    .dataframe tbody tr th:only-of-type {\n",
       "        vertical-align: middle;\n",
       "    }\n",
       "\n",
       "    .dataframe tbody tr th {\n",
       "        vertical-align: top;\n",
       "    }\n",
       "\n",
       "    .dataframe thead th {\n",
       "        text-align: right;\n",
       "    }\n",
       "</style>\n",
       "<table border=\"1\" class=\"dataframe\">\n",
       "  <thead>\n",
       "    <tr style=\"text-align: right;\">\n",
       "      <th></th>\n",
       "      <th>Pregnancies</th>\n",
       "      <th>Glucose</th>\n",
       "      <th>BloodPressure</th>\n",
       "      <th>SkinThickness</th>\n",
       "      <th>Insulin</th>\n",
       "      <th>BMI</th>\n",
       "      <th>DiabetesPedigreeFunction</th>\n",
       "      <th>Age</th>\n",
       "      <th>Outcome</th>\n",
       "    </tr>\n",
       "  </thead>\n",
       "  <tbody>\n",
       "    <tr>\n",
       "      <th>count</th>\n",
       "      <td>768.000000</td>\n",
       "      <td>768.000000</td>\n",
       "      <td>768.000000</td>\n",
       "      <td>768.000000</td>\n",
       "      <td>768.000000</td>\n",
       "      <td>768.000000</td>\n",
       "      <td>768.000000</td>\n",
       "      <td>768.000000</td>\n",
       "      <td>768.000000</td>\n",
       "    </tr>\n",
       "    <tr>\n",
       "      <th>mean</th>\n",
       "      <td>3.845052</td>\n",
       "      <td>120.894531</td>\n",
       "      <td>69.105469</td>\n",
       "      <td>20.536458</td>\n",
       "      <td>79.799479</td>\n",
       "      <td>31.992578</td>\n",
       "      <td>0.471876</td>\n",
       "      <td>33.240885</td>\n",
       "      <td>0.348958</td>\n",
       "    </tr>\n",
       "    <tr>\n",
       "      <th>std</th>\n",
       "      <td>3.369578</td>\n",
       "      <td>31.972618</td>\n",
       "      <td>19.355807</td>\n",
       "      <td>15.952218</td>\n",
       "      <td>115.244002</td>\n",
       "      <td>7.884160</td>\n",
       "      <td>0.331329</td>\n",
       "      <td>11.760232</td>\n",
       "      <td>0.476951</td>\n",
       "    </tr>\n",
       "    <tr>\n",
       "      <th>min</th>\n",
       "      <td>0.000000</td>\n",
       "      <td>0.000000</td>\n",
       "      <td>0.000000</td>\n",
       "      <td>0.000000</td>\n",
       "      <td>0.000000</td>\n",
       "      <td>0.000000</td>\n",
       "      <td>0.078000</td>\n",
       "      <td>21.000000</td>\n",
       "      <td>0.000000</td>\n",
       "    </tr>\n",
       "    <tr>\n",
       "      <th>25%</th>\n",
       "      <td>1.000000</td>\n",
       "      <td>99.000000</td>\n",
       "      <td>62.000000</td>\n",
       "      <td>0.000000</td>\n",
       "      <td>0.000000</td>\n",
       "      <td>27.300000</td>\n",
       "      <td>0.243750</td>\n",
       "      <td>24.000000</td>\n",
       "      <td>0.000000</td>\n",
       "    </tr>\n",
       "    <tr>\n",
       "      <th>50%</th>\n",
       "      <td>3.000000</td>\n",
       "      <td>117.000000</td>\n",
       "      <td>72.000000</td>\n",
       "      <td>23.000000</td>\n",
       "      <td>30.500000</td>\n",
       "      <td>32.000000</td>\n",
       "      <td>0.372500</td>\n",
       "      <td>29.000000</td>\n",
       "      <td>0.000000</td>\n",
       "    </tr>\n",
       "    <tr>\n",
       "      <th>75%</th>\n",
       "      <td>6.000000</td>\n",
       "      <td>140.250000</td>\n",
       "      <td>80.000000</td>\n",
       "      <td>32.000000</td>\n",
       "      <td>127.250000</td>\n",
       "      <td>36.600000</td>\n",
       "      <td>0.626250</td>\n",
       "      <td>41.000000</td>\n",
       "      <td>1.000000</td>\n",
       "    </tr>\n",
       "    <tr>\n",
       "      <th>max</th>\n",
       "      <td>17.000000</td>\n",
       "      <td>199.000000</td>\n",
       "      <td>122.000000</td>\n",
       "      <td>99.000000</td>\n",
       "      <td>846.000000</td>\n",
       "      <td>67.100000</td>\n",
       "      <td>2.420000</td>\n",
       "      <td>81.000000</td>\n",
       "      <td>1.000000</td>\n",
       "    </tr>\n",
       "  </tbody>\n",
       "</table>\n",
       "</div>"
      ],
      "text/plain": [
       "       Pregnancies     Glucose  BloodPressure  SkinThickness     Insulin  \\\n",
       "count   768.000000  768.000000     768.000000     768.000000  768.000000   \n",
       "mean      3.845052  120.894531      69.105469      20.536458   79.799479   \n",
       "std       3.369578   31.972618      19.355807      15.952218  115.244002   \n",
       "min       0.000000    0.000000       0.000000       0.000000    0.000000   \n",
       "25%       1.000000   99.000000      62.000000       0.000000    0.000000   \n",
       "50%       3.000000  117.000000      72.000000      23.000000   30.500000   \n",
       "75%       6.000000  140.250000      80.000000      32.000000  127.250000   \n",
       "max      17.000000  199.000000     122.000000      99.000000  846.000000   \n",
       "\n",
       "              BMI  DiabetesPedigreeFunction         Age     Outcome  \n",
       "count  768.000000                768.000000  768.000000  768.000000  \n",
       "mean    31.992578                  0.471876   33.240885    0.348958  \n",
       "std      7.884160                  0.331329   11.760232    0.476951  \n",
       "min      0.000000                  0.078000   21.000000    0.000000  \n",
       "25%     27.300000                  0.243750   24.000000    0.000000  \n",
       "50%     32.000000                  0.372500   29.000000    0.000000  \n",
       "75%     36.600000                  0.626250   41.000000    1.000000  \n",
       "max     67.100000                  2.420000   81.000000    1.000000  "
      ]
     },
     "execution_count": 86,
     "metadata": {},
     "output_type": "execute_result"
    }
   ],
   "source": [
    "df.describe()"
   ]
  },
  {
   "cell_type": "code",
   "execution_count": 46,
   "id": "db762c51",
   "metadata": {},
   "outputs": [
    {
     "data": {
      "text/html": [
       "<div>\n",
       "<style scoped>\n",
       "    .dataframe tbody tr th:only-of-type {\n",
       "        vertical-align: middle;\n",
       "    }\n",
       "\n",
       "    .dataframe tbody tr th {\n",
       "        vertical-align: top;\n",
       "    }\n",
       "\n",
       "    .dataframe thead th {\n",
       "        text-align: right;\n",
       "    }\n",
       "</style>\n",
       "<table border=\"1\" class=\"dataframe\">\n",
       "  <thead>\n",
       "    <tr style=\"text-align: right;\">\n",
       "      <th></th>\n",
       "      <th>Pregnancies</th>\n",
       "      <th>Glucose</th>\n",
       "      <th>BloodPressure</th>\n",
       "      <th>SkinThickness</th>\n",
       "      <th>Insulin</th>\n",
       "      <th>BMI</th>\n",
       "      <th>DiabetesPedigreeFunction</th>\n",
       "      <th>Age</th>\n",
       "      <th>Outcome</th>\n",
       "    </tr>\n",
       "  </thead>\n",
       "  <tbody>\n",
       "    <tr>\n",
       "      <th>count</th>\n",
       "      <td>768.000000</td>\n",
       "      <td>768.000000</td>\n",
       "      <td>768.000000</td>\n",
       "      <td>768.000000</td>\n",
       "      <td>768.000000</td>\n",
       "      <td>768.000000</td>\n",
       "      <td>768.000000</td>\n",
       "      <td>768.000000</td>\n",
       "      <td>768.000000</td>\n",
       "    </tr>\n",
       "    <tr>\n",
       "      <th>mean</th>\n",
       "      <td>3.845052</td>\n",
       "      <td>121.681605</td>\n",
       "      <td>72.254807</td>\n",
       "      <td>26.606479</td>\n",
       "      <td>79.799479</td>\n",
       "      <td>32.450805</td>\n",
       "      <td>0.471876</td>\n",
       "      <td>33.240885</td>\n",
       "      <td>0.348958</td>\n",
       "    </tr>\n",
       "    <tr>\n",
       "      <th>std</th>\n",
       "      <td>3.369578</td>\n",
       "      <td>30.436016</td>\n",
       "      <td>12.115932</td>\n",
       "      <td>9.631241</td>\n",
       "      <td>115.244002</td>\n",
       "      <td>6.875374</td>\n",
       "      <td>0.331329</td>\n",
       "      <td>11.760232</td>\n",
       "      <td>0.476951</td>\n",
       "    </tr>\n",
       "    <tr>\n",
       "      <th>min</th>\n",
       "      <td>0.000000</td>\n",
       "      <td>44.000000</td>\n",
       "      <td>24.000000</td>\n",
       "      <td>7.000000</td>\n",
       "      <td>0.000000</td>\n",
       "      <td>18.200000</td>\n",
       "      <td>0.078000</td>\n",
       "      <td>21.000000</td>\n",
       "      <td>0.000000</td>\n",
       "    </tr>\n",
       "    <tr>\n",
       "      <th>25%</th>\n",
       "      <td>1.000000</td>\n",
       "      <td>99.750000</td>\n",
       "      <td>64.000000</td>\n",
       "      <td>20.536458</td>\n",
       "      <td>0.000000</td>\n",
       "      <td>27.500000</td>\n",
       "      <td>0.243750</td>\n",
       "      <td>24.000000</td>\n",
       "      <td>0.000000</td>\n",
       "    </tr>\n",
       "    <tr>\n",
       "      <th>50%</th>\n",
       "      <td>3.000000</td>\n",
       "      <td>117.000000</td>\n",
       "      <td>72.000000</td>\n",
       "      <td>23.000000</td>\n",
       "      <td>30.500000</td>\n",
       "      <td>32.000000</td>\n",
       "      <td>0.372500</td>\n",
       "      <td>29.000000</td>\n",
       "      <td>0.000000</td>\n",
       "    </tr>\n",
       "    <tr>\n",
       "      <th>75%</th>\n",
       "      <td>6.000000</td>\n",
       "      <td>140.250000</td>\n",
       "      <td>80.000000</td>\n",
       "      <td>32.000000</td>\n",
       "      <td>127.250000</td>\n",
       "      <td>36.600000</td>\n",
       "      <td>0.626250</td>\n",
       "      <td>41.000000</td>\n",
       "      <td>1.000000</td>\n",
       "    </tr>\n",
       "    <tr>\n",
       "      <th>max</th>\n",
       "      <td>17.000000</td>\n",
       "      <td>199.000000</td>\n",
       "      <td>122.000000</td>\n",
       "      <td>99.000000</td>\n",
       "      <td>846.000000</td>\n",
       "      <td>67.100000</td>\n",
       "      <td>2.420000</td>\n",
       "      <td>81.000000</td>\n",
       "      <td>1.000000</td>\n",
       "    </tr>\n",
       "  </tbody>\n",
       "</table>\n",
       "</div>"
      ],
      "text/plain": [
       "       Pregnancies     Glucose  BloodPressure  SkinThickness     Insulin  \\\n",
       "count   768.000000  768.000000     768.000000     768.000000  768.000000   \n",
       "mean      3.845052  121.681605      72.254807      26.606479   79.799479   \n",
       "std       3.369578   30.436016      12.115932       9.631241  115.244002   \n",
       "min       0.000000   44.000000      24.000000       7.000000    0.000000   \n",
       "25%       1.000000   99.750000      64.000000      20.536458    0.000000   \n",
       "50%       3.000000  117.000000      72.000000      23.000000   30.500000   \n",
       "75%       6.000000  140.250000      80.000000      32.000000  127.250000   \n",
       "max      17.000000  199.000000     122.000000      99.000000  846.000000   \n",
       "\n",
       "              BMI  DiabetesPedigreeFunction         Age     Outcome  \n",
       "count  768.000000                768.000000  768.000000  768.000000  \n",
       "mean    32.450805                  0.471876   33.240885    0.348958  \n",
       "std      6.875374                  0.331329   11.760232    0.476951  \n",
       "min     18.200000                  0.078000   21.000000    0.000000  \n",
       "25%     27.500000                  0.243750   24.000000    0.000000  \n",
       "50%     32.000000                  0.372500   29.000000    0.000000  \n",
       "75%     36.600000                  0.626250   41.000000    1.000000  \n",
       "max     67.100000                  2.420000   81.000000    1.000000  "
      ]
     },
     "execution_count": 46,
     "metadata": {},
     "output_type": "execute_result"
    }
   ],
   "source": [
    "Glucose_outiler_index = df[df['Glucose'] == 0].index\n",
    "BloodPressure_outiler_index = df[df['BloodPressure'] == 0].index\n",
    "SkinThickness_outiler_index = df[df['SkinThickness'] == 0].index\n",
    "BMI_outiler_index = df[df['BMI'] == 0].index\n",
    "\n",
    "df.loc[Glucose_outiler_index, 'Glucose'] = df['Glucose'].mean()\n",
    "df.loc[BloodPressure_outiler_index, 'BloodPressure'] = df['BloodPressure'].mean()\n",
    "df.loc[SkinThickness_outiler_index, 'SkinThickness'] = df['SkinThickness'].mean()\n",
    "df.loc[BMI_outiler_index, 'BMI'] = df['BMI'].mean()\n",
    "\n",
    "df.describe()"
   ]
  },
  {
   "cell_type": "markdown",
   "id": "1cb2709c",
   "metadata": {},
   "source": [
    "#### boxplot으로 전체 변수에 대한 이상치를 탐색한 결과, Outcome, DiabetesPedigreeFunction 제외한 변수에 이상치가 있음을 확인할 수 있다.\n",
    "#### Insulin의 경우 이상치들이 있지만, 이상치들이 연속적으로 이어져 있어 실제로 이상치를 가진 사람이 있을 수 있으므로 현업의 의견이 필요할 것으로 판단된다.\n",
    "#### Glucose, BloodPressure, SkinThickness, BMI는 상식적으로 0이되면 안되므로, 평균값으로 이상치를 대치하였다."
   ]
  },
  {
   "cell_type": "markdown",
   "id": "21643bee",
   "metadata": {},
   "source": [
    "## 1-3) 앞선 두 단계에서 발견한 점을 바탕으로 향후 분석시에 고려해야 할 사항을 작성하시오\n",
    "#### 위 describe() 함수를 보게되면, 최솟값과 최대값의 차이가 많이 나는 변수가 존재한다. \n",
    "#### 따라서 선형 모델 사용 시 scale을 적용할 필요가 있어 보인다.\n",
    "#### 종속변수 분포를 보면 당뇨병이 아닌경우(Negative Diabetes)가 당뇨병인 경우보다 (Positive Diabetes)보다 빈도수가 많기 때문에 클래스 불균형에 따른 영향도를 인지할 필요가 있다.\n",
    "#### Insulin의 경우 이상치들이 있지만, 이상치들이 연속적으로 이어져 있어 실제로 이상치를 가진 사람이 있을 수 있으므로 현업의 의견이 필요할 것으로 판단된다.\n",
    "\n"
   ]
  },
  {
   "cell_type": "markdown",
   "id": "25e0cdb6",
   "metadata": {},
   "source": [
    "## 2-1) 업 샘플링 과정을 설명하고 결과를 작성하시오."
   ]
  },
  {
   "cell_type": "code",
   "execution_count": 26,
   "id": "e24a50fc",
   "metadata": {
    "scrolled": false
   },
   "outputs": [
    {
     "name": "stdout",
     "output_type": "stream",
     "text": [
      "before Upsampling :  768 768\n",
      "before Upsampling :  0    500\n",
      "1    268\n",
      "Name: Outcome, dtype: int64\n",
      "after Upsampling :  1000 1000\n",
      "after Upsampling :  1    500\n",
      "0    500\n",
      "Name: Outcome, dtype: int64\n"
     ]
    },
    {
     "data": {
      "image/png": "[encoded data removed]",
      "text/plain": [
       "<Figure size 864x432 with 2 Axes>"
      ]
     },
     "metadata": {
      "needs_background": "light"
     },
     "output_type": "display_data"
    }
   ],
   "source": [
    "from sklearn.model_selection import train_test_split\n",
    "X = df.drop('Outcome', axis = 1)\n",
    "y = df['Outcome']\n",
    "\n",
    "fig, axs = plt.subplots(1,2, figsize = (12,6))\n",
    "\n",
    "axs[0].bar(['Negative Diabetes','Positive Diabetes'], y.value_counts().values)\n",
    "axs[0].set_title('before Upsampling')\n",
    "\n",
    "from imblearn.over_sampling import RandomOverSampler\n",
    "ros =  RandomOverSampler()\n",
    "X_up, y_up = ros.fit_resample(X,y)\n",
    "\n",
    "axs[1].bar(['Negative Diabetes','Positive Diabetes'], y_up.value_counts().values)\n",
    "axs[1].set_title('after Upsampling')\n",
    "\n",
    "print('before Upsampling : ', len(X), len(y))\n",
    "print('before Upsampling : ', y.value_counts())\n",
    "\n",
    "print('after Upsampling : ', len(X_up), len(y_up))\n",
    "print('after Upsampling : ', y_up.value_counts())"
   ]
  },
  {
   "cell_type": "code",
   "execution_count": 30,
   "id": "70d307ea",
   "metadata": {},
   "outputs": [
    {
     "name": "stdout",
     "output_type": "stream",
     "text": [
      "before smote :  768 768\n",
      "before smote :  0    500\n",
      "1    268\n",
      "Name: Outcome, dtype: int64\n",
      "after smote :  1000 1000\n",
      "after smote :  1    500\n",
      "0    500\n",
      "Name: Outcome, dtype: int64\n"
     ]
    },
    {
     "data": {
      "image/png": "[encoded data removed]",
      "text/plain": [
       "<Figure size 864x432 with 2 Axes>"
      ]
     },
     "metadata": {
      "needs_background": "light"
     },
     "output_type": "display_data"
    }
   ],
   "source": [
    "from sklearn.model_selection import train_test_split\n",
    "X = df.drop('Outcome', axis = 1)\n",
    "y = df['Outcome']\n",
    "\n",
    "fig, axs = plt.subplots(1,2, figsize = (12,6))\n",
    "\n",
    "axs[0].bar(['Negative Diabetes','Positive Diabetes'], y.value_counts().values)\n",
    "axs[0].set_title('before smote')\n",
    "\n",
    "from imblearn.over_sampling import SMOTE\n",
    "smote =  SMOTE(k_neighbors=5)\n",
    "X_up, y_up = smote.fit_resample(X,y)\n",
    "\n",
    "axs[1].bar(['Negative Diabetes','Positive Diabetes'], y_up.value_counts().values)\n",
    "axs[1].set_title('after smote')\n",
    "\n",
    "print('before smote : ', len(X), len(y))\n",
    "print('before smote : ', y.value_counts())\n",
    "\n",
    "print('after smote : ', len(X_up), len(y_up))\n",
    "print('after smote : ', y_up.value_counts())\n"
   ]
  },
  {
   "cell_type": "markdown",
   "id": "c04ac796",
   "metadata": {},
   "source": [
    "#### 데이터 세트의 균형을 맞추기 위해 업 샘플링을 적용할 수 있다.\n",
    "#### 업 샘플링은 소수 레이블을 가진 데이터세트를 다수 레이블을 가진 데이터세트의 수 만큼 증식시켜 학습에 충분한 데이터를 확보하는 기법이다.\n",
    "#### 일반적으로 불균형한 데이터를 처리하는 방식으로 업 샘플링을 사용하는데, 이는 언더 샘플링의 경우 데이터 손실의 문제로 예측성능이 저하되는 단점이 있기 때문이다.\n",
    "\n",
    "#### 대표적으로 랜덤오버샘플링과 KNN을 이용한 SMOTE 기법이 있다.\n",
    "#### 랜덤오버샘플링은 소수 클래스의 정보를 복제하여 다수 클래스의 크기에 맞추는 기법이며, 이는 과적합의 우려가 있다.\n",
    "#### SMOTE는 KNN을 이용하여 최근접 이웃의 거리 계산을 통해 K개의 중간 지점의 데이터를 생성한다.\n",
    "#### 과적합을 막을 수 있으나, 새로운 데이터나 작은 데이터셋에서는 사용하기가 어렵다.\n",
    "\n",
    "#### 랜덤 오버샘플링과 SMOTE 기법 모두 사용한 결과\n",
    "#### upsampling 이전에는 종속변수 Outcome 기준으로 0 : 500, 1 : 268이었는데, upsampling 적용 후 0:500, 1:500이 되었으며\n",
    "#### 이는 전체 데이터 크기가 232만큼 증가하였다는 것을 알 수 있었다.\n",
    "#### 또한 막대그래프를 통해 upsampling 이전, 이후의 차이를 볼 수 있었다."
   ]
  },
  {
   "cell_type": "code",
   "execution_count": 28,
   "id": "ff834139",
   "metadata": {
    "scrolled": true
   },
   "outputs": [
    {
     "name": "stdout",
     "output_type": "stream",
     "text": [
      "before undersampling :  768 768\n",
      "before undersampling :  0    500\n",
      "1    268\n",
      "Name: Outcome, dtype: int64\n",
      "after undersampling :  536 536\n",
      "after undersampling :  0    268\n",
      "1    268\n",
      "Name: Outcome, dtype: int64\n"
     ]
    },
    {
     "data": {
      "image/png": "[encoded data removed]",
      "text/plain": [
       "<Figure size 864x432 with 2 Axes>"
      ]
     },
     "metadata": {
      "needs_background": "light"
     },
     "output_type": "display_data"
    }
   ],
   "source": [
    "from sklearn.model_selection import train_test_split\n",
    "X = df.drop('Outcome', axis = 1)\n",
    "y = df['Outcome']\n",
    "\n",
    "fig, axs = plt.subplots(1,2, figsize = (12,6))\n",
    "\n",
    "axs[0].bar(['Negative Diabetes','Positive Diabetes'], y.value_counts().values)\n",
    "axs[0].set_title('before Undersampling')\n",
    "\n",
    "from imblearn.under_sampling import RandomUnderSampler\n",
    "rus =  RandomUnderSampler()\n",
    "X_up, y_up = rus.fit_resample(X,y)\n",
    "\n",
    "axs[1].bar(['Negative Diabetes','Positive Diabetes'], y_up.value_counts().values)\n",
    "axs[1].set_title('after Undersampling')\n",
    "\n",
    "print('before undersampling : ', len(X), len(y))\n",
    "print('before undersampling : ', y.value_counts())\n",
    "\n",
    "print('after undersampling : ', len(X_up), len(y_up))\n",
    "print('after undersampling : ', y_up.value_counts())\n"
   ]
  },
  {
   "cell_type": "markdown",
   "id": "35c05e94",
   "metadata": {},
   "source": [
    "## 2-2) 언더 샘플링 과정을 설명하고 결과를 작성하시오."
   ]
  },
  {
   "cell_type": "markdown",
   "id": "05b1788c",
   "metadata": {},
   "source": [
    "#### 데이터 세트의 균형을 맞추기 위해 언더 샘플링을 적용할 수 있다.\n",
    "#### 언더 샘플링은 다수 클래스를 감소시켜 소수 클래스 개수에 맞추는 방식이다.\n",
    "#### 대표적으로 랜덤언더샘플링 있지만, 소수의 클래스로 만드는 과정에서 데이터의 손실이 발생하는 문제가 있을 수 있다. \n",
    "#### 소수 클래스의 크기가 너무 작을 경우 머신러닝 과정에서의 과소적합이 발생할 수 있다. \n",
    "\n",
    "#### 랜덤 언더샘플링을 사용한 결과\n",
    "#### undersampling 이전에는 종속변수 Outcome 기준으로 0 : 500, 1 : 268이었는데, undersampling 적용 후 0:268, 1:268이 되었으며\n",
    "#### 이는 전체 데이터 크기가 232만큼 감소하였다는 것을 알 수 있었다.\n",
    "#### 또한 막대그래프를 통해 undersampling 이전, 이후의 차이를 볼 수 있었다."
   ]
  },
  {
   "cell_type": "markdown",
   "id": "d75a4e86",
   "metadata": {},
   "source": [
    "## 2-3) 둘 중 하나를 선택하고 선택한 이유를 서술하시오.\n",
    "#### 해당 데이터에서는 oversampling이 적합하다. 데이터가 총 768개로 당뇨병 환자를 대표하기에는 너무 적은 data이다.\n",
    "#### 심지어 환자의 수는 768명 중 268명뿐이다. undersampling을 선택하게 되면 전체 데이터가 더 적어지기 때문에\n",
    "#### 과적합이 발행할 위험이 더 크므로 oversampling을 선택하였다.\n",
    "#### 추가로 랜덤포레스트 성능 비교를 통해 oversampling을 선택하였다."
   ]
  },
  {
   "cell_type": "markdown",
   "id": "332e6faa",
   "metadata": {},
   "source": [
    "## 3. 모델링\n",
    "## 3-1) 최소 3개 이상의 알고리즘을 제시하고 정확도 측면의 모델 1개와 속도 측면의 모델 1개를 선정하시오."
   ]
  },
  {
   "cell_type": "code",
   "execution_count": 36,
   "id": "c40b5198",
   "metadata": {},
   "outputs": [],
   "source": [
    "from sklearn.linear_model import LogisticRegression\n",
    "from sklearn.ensemble import RandomForestClassifier\n",
    "from xgboost import XGBClassifier\n",
    "from sklearn.svm import SVC\n",
    "\n",
    "log = LogisticRegression()\n",
    "rf = RandomForestClassifier()\n",
    "xgb = XGBClassifier(random_state = 0)\n",
    "svm = SVC(kernel = 'linear')"
   ]
  },
  {
   "cell_type": "markdown",
   "id": "acb500cc",
   "metadata": {},
   "source": [
    "#### 속도 측면에서 Logistic regression, 정확도 측면에서 RandomForest, XGBClassifer, SVC를 제시하겠다"
   ]
  },
  {
   "cell_type": "code",
   "execution_count": 77,
   "id": "19bae78c",
   "metadata": {},
   "outputs": [],
   "source": [
    "from sklearn.model_selection import KFold\n",
    "from sklearn.metrics import accuracy_score\n",
    "import time\n",
    "import numpy as np\n",
    "\n",
    "smote = SMOTE(random_state = 2022)\n",
    "kfold = KFold()\n",
    "\n",
    "def model_result(model):\n",
    "    pred_li = []\n",
    "    # 5개의 경우의 수로 분할 검증\n",
    "    for train_index, test_index in kfold.split(X):\n",
    "        X_train, X_test = X.iloc[train_index, :], X.iloc[test_index, :]\n",
    "        y_train, y_test = y.iloc[train_index], y.iloc[test_index]\n",
    "        \n",
    "        X_train_resample, y_train_resample = smote.fit_resample(X_train, y_train)\n",
    "        \n",
    "        start = time.time()\n",
    "        model.fit(X_train_resample, y_train_resample)\n",
    "        end = time.time()\n",
    "        \n",
    "        y_pred = model.predict(X_test)\n",
    "        pred_li.append(accuracy_score(y_test, y_pred))\n",
    "    # 마지막 데이터 학습속도    \n",
    "    print('속도 : ', f\"{end - start:.5f} sec\")\n",
    "    # 5개 test 데이터에 대한 정확도의 평균 값\n",
    "    print('정확도 : ', np.mean(pred_li))"
   ]
  },
  {
   "cell_type": "code",
   "execution_count": 78,
   "id": "a09cb07e",
   "metadata": {},
   "outputs": [
    {
     "name": "stdout",
     "output_type": "stream",
     "text": [
      "LogisticRegression\n",
      "속도 :  0.02600 sec\n",
      "정확도 :  0.7332229861641626\n"
     ]
    },
    {
     "name": "stderr",
     "output_type": "stream",
     "text": [
      "C:\\Users\\KDB\\anaconda3\\lib\\site-packages\\sklearn\\linear_model\\_logistic.py:814: ConvergenceWarning: lbfgs failed to converge (status=1):\n",
      "STOP: TOTAL NO. of ITERATIONS REACHED LIMIT.\n",
      "\n",
      "Increase the number of iterations (max_iter) or scale the data as shown in:\n",
      "    https://scikit-learn.org/stable/modules/preprocessing.html\n",
      "Please also refer to the documentation for alternative solver options:\n",
      "    https://scikit-learn.org/stable/modules/linear_model.html#logistic-regression\n",
      "  n_iter_i = _check_optimize_result(\n",
      "C:\\Users\\KDB\\anaconda3\\lib\\site-packages\\sklearn\\linear_model\\_logistic.py:814: ConvergenceWarning: lbfgs failed to converge (status=1):\n",
      "STOP: TOTAL NO. of ITERATIONS REACHED LIMIT.\n",
      "\n",
      "Increase the number of iterations (max_iter) or scale the data as shown in:\n",
      "    https://scikit-learn.org/stable/modules/preprocessing.html\n",
      "Please also refer to the documentation for alternative solver options:\n",
      "    https://scikit-learn.org/stable/modules/linear_model.html#logistic-regression\n",
      "  n_iter_i = _check_optimize_result(\n",
      "C:\\Users\\KDB\\anaconda3\\lib\\site-packages\\sklearn\\linear_model\\_logistic.py:814: ConvergenceWarning: lbfgs failed to converge (status=1):\n",
      "STOP: TOTAL NO. of ITERATIONS REACHED LIMIT.\n",
      "\n",
      "Increase the number of iterations (max_iter) or scale the data as shown in:\n",
      "    https://scikit-learn.org/stable/modules/preprocessing.html\n",
      "Please also refer to the documentation for alternative solver options:\n",
      "    https://scikit-learn.org/stable/modules/linear_model.html#logistic-regression\n",
      "  n_iter_i = _check_optimize_result(\n",
      "C:\\Users\\KDB\\anaconda3\\lib\\site-packages\\sklearn\\linear_model\\_logistic.py:814: ConvergenceWarning: lbfgs failed to converge (status=1):\n",
      "STOP: TOTAL NO. of ITERATIONS REACHED LIMIT.\n",
      "\n",
      "Increase the number of iterations (max_iter) or scale the data as shown in:\n",
      "    https://scikit-learn.org/stable/modules/preprocessing.html\n",
      "Please also refer to the documentation for alternative solver options:\n",
      "    https://scikit-learn.org/stable/modules/linear_model.html#logistic-regression\n",
      "  n_iter_i = _check_optimize_result(\n",
      "C:\\Users\\KDB\\anaconda3\\lib\\site-packages\\sklearn\\linear_model\\_logistic.py:814: ConvergenceWarning: lbfgs failed to converge (status=1):\n",
      "STOP: TOTAL NO. of ITERATIONS REACHED LIMIT.\n",
      "\n",
      "Increase the number of iterations (max_iter) or scale the data as shown in:\n",
      "    https://scikit-learn.org/stable/modules/preprocessing.html\n",
      "Please also refer to the documentation for alternative solver options:\n",
      "    https://scikit-learn.org/stable/modules/linear_model.html#logistic-regression\n",
      "  n_iter_i = _check_optimize_result(\n"
     ]
    }
   ],
   "source": [
    "print('LogisticRegression')\n",
    "model_result(log)"
   ]
  },
  {
   "cell_type": "code",
   "execution_count": 79,
   "id": "82072da2",
   "metadata": {},
   "outputs": [
    {
     "name": "stdout",
     "output_type": "stream",
     "text": [
      "RandomForestClassifier\n",
      "속도 :  0.20794 sec\n",
      "정확도 :  0.7448179271708684\n"
     ]
    }
   ],
   "source": [
    "print('RandomForestClassifier')\n",
    "model_result(rf)"
   ]
  },
  {
   "cell_type": "code",
   "execution_count": 80,
   "id": "6476c7fc",
   "metadata": {},
   "outputs": [
    {
     "name": "stdout",
     "output_type": "stream",
     "text": [
      "XGBClassifier\n",
      "속도 :  0.05400 sec\n",
      "정확도 :  0.7370002546473134\n"
     ]
    }
   ],
   "source": [
    "print('XGBClassifier')\n",
    "model_result(xgb)"
   ]
  },
  {
   "cell_type": "code",
   "execution_count": 81,
   "id": "a8f51ec7",
   "metadata": {},
   "outputs": [
    {
     "name": "stdout",
     "output_type": "stream",
     "text": [
      "SVC\n",
      "속도 :  4.65235 sec\n",
      "정확도 :  0.7487904252610134\n"
     ]
    }
   ],
   "source": [
    "print('SVC')\n",
    "model_result(svm)"
   ]
  },
  {
   "cell_type": "markdown",
   "id": "987b33d7",
   "metadata": {},
   "source": [
    "#### 데이터가 적기 때문에 Hold-out 기법이 아닌 Cross-validation 기법으로 성능을 확인하였고,\n",
    "#### 위에서 언급했던 것 처럼 Oversampling의 Smote 기법을 활용하였다.\n",
    "#### 예상대로 Logistic Regression 모델이 가장 빨랐으며, SVM이 정확도면에서 성능이 가장 좋은 것을 확인할 수 있었다."
   ]
  },
  {
   "cell_type": "markdown",
   "id": "d62d508a",
   "metadata": {},
   "source": [
    "## 3-3) 속도 개선을 위한 차원축소 방법을 설명하고 수행하시오. 그리고 예측 성능과 속도를 비교하고 결과를 작성하시오"
   ]
  },
  {
   "cell_type": "code",
   "execution_count": 89,
   "id": "d8ff9ebb",
   "metadata": {},
   "outputs": [
    {
     "name": "stdout",
     "output_type": "stream",
     "text": [
      "PCA(n_components=8)\n",
      "[0.27780433 0.20942513 0.13125147 0.10662503 0.09677395 0.07490071\n",
      " 0.0571822  0.04603718]\n",
      "0.8218799150462834\n"
     ]
    }
   ],
   "source": [
    "from sklearn.preprocessing import StandardScaler\n",
    "from sklearn.decomposition import PCA\n",
    "from sklearn.model_selection import train_test_split\n",
    "\n",
    "X_train, X_test, y_train, y_test = train_test_split(X, y, stratify = y, test_size = 0.3, random_state = 2022)\n",
    "\n",
    "scaler = StandardScaler()\n",
    "X_train_scaled = scaler.fit_transform(X_train)\n",
    "X_test_scaled = scaler.transform(X_test)\n",
    "\n",
    "pca = PCA(n_components = 8)\n",
    "x_train_pca = pca.fit(X_train_scaled)\n",
    "print(x_train_pca)\n",
    "print(pca.explained_variance_ratio_)\n",
    "print(sum(pca.explained_variance_ratio_[:5]))"
   ]
  },
  {
   "cell_type": "markdown",
   "id": "c618688a",
   "metadata": {},
   "source": [
    "#### 속도 개선을 위한 차원축소방법인 PCA를 사용할 수 있다. 예측의 성능은 원본의 데이터를 그대로 사용하는 것보다 떨어질 수 있다.\n",
    "#### 차원을 축소함으로써 속도는 훨씬 상승시킬 수 있다.\n",
    "#### PCA를 사용할 때, 데이터 스케일에 따라 각 주성분이 설명가능한 분산량이 달라질 수 있기 때문에 데이터 스케일링을 꼭 해주어야 한다.\n",
    "#### 간략하게 해당 데이터에서 독립변수를 차원 축소 시켜 적절한 주성분 개수를 찾아보고자 하였다.\n",
    "#### 8개의 독립변수 대신 5 주성분까지 사용하면, 전체 데이터의 82%를 설명할 수 있음을 파악하였다."
   ]
  },
  {
   "cell_type": "code",
   "execution_count": 117,
   "id": "2e47d4b7",
   "metadata": {},
   "outputs": [],
   "source": [
    "def pca_model_result(model):\n",
    "    pred_li = []\n",
    "    # 5개의 경우의 수로 분할 검증\n",
    "    for train_index, test_index in kfold.split(X):\n",
    "        X_train, X_test = X.iloc[train_index, :], X.iloc[test_index, :]\n",
    "        y_train, y_test = y.iloc[train_index], y.iloc[test_index]\n",
    "        \n",
    "        X_train_resample, y_train_resample = smote.fit_resample(X_train, y_train)\n",
    "        \n",
    "        scaler = StandardScaler()\n",
    "        X_train_scaled = scaler.fit_transform(X_train_resample)\n",
    "        X_test_scaled = scaler.transform(X_test)\n",
    "        \n",
    "        pca = PCA(n_components = 5)\n",
    "        X_train_pca = pca.fit_transform(X_train_scaled)\n",
    "        X_test_pca = pca.transform(X_test_scaled)\n",
    "                \n",
    "        start = time.time()\n",
    "        model.fit(X_train_pca, y_train_resample)\n",
    "        end = time.time()\n",
    "        y_pred = model.predict(X_test_pca)\n",
    "        pred_li.append(accuracy_score(y_test, y_pred))\n",
    "        \n",
    "    # 마지막 데이터 학습속도    \n",
    "    print('속도 : ', f\"{end - start:.5f} sec\")\n",
    "    # 5개 test 데이터에 대한 정확도의 평균 값\n",
    "    print('정확도 : ', np.mean(pred_li))"
   ]
  },
  {
   "cell_type": "code",
   "execution_count": 118,
   "id": "91e8b227",
   "metadata": {},
   "outputs": [
    {
     "name": "stdout",
     "output_type": "stream",
     "text": [
      "LogisticRegression\n",
      "속도 :  0.00299 sec\n",
      "정확도 :  0.7135896782955606\n"
     ]
    }
   ],
   "source": [
    "print('LogisticRegression')\n",
    "pca_model_result(log)"
   ]
  },
  {
   "cell_type": "code",
   "execution_count": 122,
   "id": "14130a89",
   "metadata": {},
   "outputs": [
    {
     "name": "stdout",
     "output_type": "stream",
     "text": [
      "RandomForestClassifier\n",
      "속도 :  0.23199 sec\n",
      "정확도 :  0.7161955691367456\n"
     ]
    }
   ],
   "source": [
    "print('RandomForestClassifier')\n",
    "pca_model_result(rf)"
   ]
  },
  {
   "cell_type": "code",
   "execution_count": 123,
   "id": "8be646dc",
   "metadata": {},
   "outputs": [
    {
     "name": "stdout",
     "output_type": "stream",
     "text": [
      "XGBClassifier\n",
      "속도 :  0.06800 sec\n",
      "정확도 :  0.7031321619556914\n"
     ]
    }
   ],
   "source": [
    "print('XGBClassifier')\n",
    "pca_model_result(xgb)"
   ]
  },
  {
   "cell_type": "code",
   "execution_count": 121,
   "id": "a1dc260c",
   "metadata": {},
   "outputs": [
    {
     "name": "stdout",
     "output_type": "stream",
     "text": [
      "SVC\n",
      "속도 :  4.74393 sec\n",
      "정확도 :  0.7487904252610134\n"
     ]
    }
   ],
   "source": [
    "print('SVC')\n",
    "pca_model_result(svm)"
   ]
  },
  {
   "cell_type": "markdown",
   "id": "a3fee625",
   "metadata": {},
   "source": [
    "#### 예측 성능은 다소 떨어졌지만, 속도 측면에서 차원축소에 의해 더 빨라졌다.\n",
    "#### 향후에 데이터가 크게 늘어난다면 차원축소를 통해 성능 및 속도측면에서 더 유의미한 결과를 찾아낼 수 있을 것이다."
   ]
  },
  {
   "cell_type": "markdown",
   "id": "f6032d0a",
   "metadata": {},
   "source": [
    "# 통계분석\n",
    "## 1. 회사 제품의 금속 재질 함유량의 분산이 1.3을 넘으면 불량이라고 판단한다. 회사에서는 품질 경영팀으로 부터 제조사별로 금속\n",
    "## 함유량이 차이가 난다고 제보를 받았다. 해당 금속 함유량 데이터에 대한 검정을 수행하시오 (유의확률 : 0.05)"
   ]
  },
  {
   "cell_type": "markdown",
   "id": "56c0e7f0",
   "metadata": {},
   "source": [
    "## 1-1) 귀무가설, 대립가설 작성하시오.\n",
    "#### 1-1-1) H0 : 제품들의 금속 재질 함유량 분산은 1.3이다. H1 : 제품들의 금속 재질 함유량 분산은 1.3이다.\n",
    "\n",
    "## 1-2) 가설을 양측 검정 하시오."
   ]
  },
  {
   "cell_type": "code",
   "execution_count": 125,
   "id": "dd948541",
   "metadata": {},
   "outputs": [],
   "source": [
    "import pandas as pd\n",
    "import numpy as np\n",
    "df = pd.read_csv('data/metalicity')\n",
    "\n",
    "# 정규성 검정\n",
    "import scipy.stats as stats\n",
    "from scipy.stats import shapiro, levene\n",
    "print(shapiro(df['metalicity']))\n",
    "\n",
    "# 등분산성 검정(평균 45.32, 분산 1.3)\n",
    "test = np.random.normal(45.32, 1.3**0.5, 150)\n",
    "levene(df['metalicity'], test)"
   ]
  },
  {
   "cell_type": "markdown",
   "id": "37f58c3a",
   "metadata": {},
   "source": [
    "#### 가설을 검정하기 전에 해당 데이터가 정규성을 띄는지를 먼저 판단해 주어야 한다.\n",
    "#### 정규성 검정은 shapiro를 사용하였고, 귀무가설이 '정규성을 가진다.' 이며, 대립가설이 '정규성을 갖지 않는다.'이다 \n",
    "#### 유의확률이 0.05 이상이므로 shapiro 검정의 귀무가설을 채택한다. 즉, 정규성을 만족한다고 할 수 있다.\n",
    "#### 해당 데이터는 정규분포를 따르므로, 등분산성 검정을 위해, 원 데이터의 평균 및 분산 1.3을 가진 비교데이터를 만들었다.\n",
    "#### 등분산 검정 결과 유의확률이 0.05보다 작으므로 1-1)의 귀무가설을 기각한다.\n",
    "#### 즉, 제품들의 금속 재질 함유량 분산은 1.3이 아니라고 할 수 있다."
   ]
  },
  {
   "cell_type": "markdown",
   "id": "43097a09",
   "metadata": {},
   "source": [
    "## 4. 상품 a와 b가 있을 때 다음과 같은 구매 패턴이 있다고 한다."
   ]
  },
  {
   "cell_type": "markdown",
   "id": "3fe3109f",
   "metadata": {},
   "source": [
    "## 4-1) 구매 패턴으로 볼 때 두 상품이 연관이 있는지 가설을 세우고 검정하시오\n",
    "#### H0 :  두 상품의 구매 패턴은 임의적이다. H1 : 두 상품의 구매 패턴은 임의적이지 않다. 즉 구매 패턴에 연관이 있다."
   ]
  },
  {
   "cell_type": "code",
   "execution_count": 134,
   "id": "73038237",
   "metadata": {},
   "outputs": [
    {
     "data": {
      "text/plain": [
       "(-1.1144881152070183, 0.26506984027306035)"
      ]
     },
     "execution_count": 134,
     "metadata": {},
     "output_type": "execute_result"
    }
   ],
   "source": [
    "list = ['a','a','b','b','a','a','a','a','b','b','b','b','b','a','a','b','b','a','b','b']\n",
    "df = pd.DataFrame(list, columns = ['상품'])\n",
    "\n",
    "# binary 값으로 변환\n",
    "df[df['상품'] == 'a']  = 0\n",
    "df[df['상품'] == 'b']  = 1\n",
    "\n",
    "from statsmodels.sandbox.stats.runs import runstest_1samp\n",
    "runstest_1samp(df['상품'])"
   ]
  },
  {
   "cell_type": "markdown",
   "id": "ce816882",
   "metadata": {},
   "source": [
    "## 4-2) 가설을 채택하시오.\n",
    "#### 검정 결과 p-value가 0.05보다 크므로, 귀무가설을 채택한다. 즉 상품 a와 b의 구매에는 연관이 없다고 할 수 있다"
   ]
  }
 ],
 "metadata": {
  "kernelspec": {
   "display_name": "Python 3 (ipykernel)",
   "language": "python",
   "name": "python3"
  },
  "language_info": {
   "codemirror_mode": {
    "name": "ipython",
    "version": 3
   },
   "file_extension": ".py",
   "mimetype": "text/x-python",
   "name": "python",
   "nbconvert_exporter": "python",
   "pygments_lexer": "ipython3",
   "version": "3.9.12"
  }
 },
 "nbformat": 4,
 "nbformat_minor": 5
}
